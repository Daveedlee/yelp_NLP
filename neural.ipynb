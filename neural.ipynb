{
 "cells": [
  {
   "cell_type": "code",
   "execution_count": 1,
   "metadata": {},
   "outputs": [],
   "source": [
    "from yhelper import neural_modeling"
   ]
  },
  {
   "cell_type": "code",
   "execution_count": 2,
   "metadata": {},
   "outputs": [],
   "source": [
    "review = \"\"\"My girlfriend and I went to Taco Del Toro in Lincoln Park the other day and we were very upset about how our trip panned out. \n",
    "One, Lincoln Park is not our favorite neighborhood. It is way to stuffy and the people are all rich and white. Two, as common \n",
    "Logan Square millineal vegetarians, we expected that Taco Del Toro would have vegetarian options, but they DID NOT! This is so \n",
    "upsetting in the current year! Taco Del Toro needs to expand its menu for all types of customers and not just rich, \n",
    "white Lincoln Park people who do not care about the ANIMALS. Will not be back! But overall it was a fine dining experience\"\"\""
   ]
  },
  {
   "cell_type": "markdown",
   "metadata": {},
   "source": [
    "# Arizona"
   ]
  },
  {
   "cell_type": "code",
   "execution_count": 3,
   "metadata": {},
   "outputs": [
    {
     "name": "stderr",
     "output_type": "stream",
     "text": [
      "Using TensorFlow backend.\n"
     ]
    }
   ],
   "source": [
    "arizona = neural_modeling('df_az.p')"
   ]
  },
  {
   "cell_type": "code",
   "execution_count": 4,
   "metadata": {},
   "outputs": [
    {
     "name": "stdout",
     "output_type": "stream",
     "text": [
      "Model: \"sequential_1\"\n",
      "_________________________________________________________________\n",
      "Layer (type)                 Output Shape              Param #   \n",
      "=================================================================\n",
      "embedding_1 (Embedding)      (None, None, 150)         43752000  \n",
      "_________________________________________________________________\n",
      "conv1d_1 (Conv1D)            (None, None, 64)          48064     \n",
      "_________________________________________________________________\n",
      "bidirectional_1 (Bidirection (None, None, 128)         66048     \n",
      "_________________________________________________________________\n",
      "dropout_1 (Dropout)          (None, None, 128)         0         \n",
      "_________________________________________________________________\n",
      "global_max_pooling1d_1 (Glob (None, 128)               0         \n",
      "_________________________________________________________________\n",
      "dense_1 (Dense)              (None, 5)                 645       \n",
      "=================================================================\n",
      "Total params: 43,866,757\n",
      "Trainable params: 43,866,757\n",
      "Non-trainable params: 0\n",
      "_________________________________________________________________\n"
     ]
    },
    {
     "data": {
      "text/plain": [
       "<keras.engine.sequential.Sequential at 0x7f0ae44dac18>"
      ]
     },
     "execution_count": 4,
     "metadata": {},
     "output_type": "execute_result"
    }
   ],
   "source": [
    "arizona.baseline()"
   ]
  },
  {
   "cell_type": "code",
   "execution_count": 7,
   "metadata": {},
   "outputs": [
    {
     "name": "stdout",
     "output_type": "stream",
     "text": [
      "Model: \"sequential_4\"\n",
      "_________________________________________________________________\n",
      "Layer (type)                 Output Shape              Param #   \n",
      "=================================================================\n",
      "embedding_4 (Embedding)      (None, None, 150)         43752000  \n",
      "_________________________________________________________________\n",
      "conv1d_4 (Conv1D)            (None, None, 64)          48064     \n",
      "_________________________________________________________________\n",
      "bidirectional_4 (Bidirection (None, None, 128)         66048     \n",
      "_________________________________________________________________\n",
      "dropout_4 (Dropout)          (None, None, 128)         0         \n",
      "_________________________________________________________________\n",
      "global_max_pooling1d_4 (Glob (None, 128)               0         \n",
      "_________________________________________________________________\n",
      "dense_4 (Dense)              (None, 5)                 645       \n",
      "=================================================================\n",
      "Total params: 43,866,757\n",
      "Trainable params: 43,866,757\n",
      "Non-trainable params: 0\n",
      "_________________________________________________________________\n"
     ]
    },
    {
     "name": "stderr",
     "output_type": "stream",
     "text": [
      "/usr/local/lib/python3.5/dist-packages/tensorflow_core/python/framework/indexed_slices.py:433: UserWarning: Converting sparse IndexedSlices to a dense Tensor of unknown shape. This may consume a large amount of memory.\n",
      "  \"Converting sparse IndexedSlices to a dense Tensor of unknown shape. \"\n"
     ]
    },
    {
     "name": "stdout",
     "output_type": "stream",
     "text": [
      "Train on 68360 samples, validate on 7596 samples\n",
      "Epoch 1/5\n",
      "68360/68360 [==============================] - 167s 2ms/step - loss: 0.8343 - accuracy: 0.6634 - mse: 0.0891 - val_loss: 0.8252 - val_accuracy: 0.7029 - val_mse: 0.0871\n",
      "Epoch 2/5\n",
      "68360/68360 [==============================] - 169s 2ms/step - loss: 0.6287 - accuracy: 0.7425 - mse: 0.0700 - val_loss: 0.7666 - val_accuracy: 0.6919 - val_mse: 0.0821\n",
      "Epoch 3/5\n",
      "68360/68360 [==============================] - 169s 2ms/step - loss: 0.5213 - accuracy: 0.7894 - mse: 0.0588 - val_loss: 0.7662 - val_accuracy: 0.6950 - val_mse: 0.0829\n",
      "Epoch 4/5\n",
      "68360/68360 [==============================] - 167s 2ms/step - loss: 0.4195 - accuracy: 0.8341 - mse: 0.0472 - val_loss: 0.7742 - val_accuracy: 0.6887 - val_mse: 0.0839\n",
      "Epoch 5/5\n",
      "68360/68360 [==============================] - 168s 2ms/step - loss: 0.3207 - accuracy: 0.8781 - mse: 0.0357 - val_loss: 0.8288 - val_accuracy: 0.6631 - val_mse: 0.0887\n",
      "-------Accuracy------- \n",
      "\n",
      "18990/18990 [==============================] - 25s 1ms/step\n",
      "[0.8014965281730078, 0.6719852685928345, 0.08684461563825607]\n",
      "['loss', 'accuracy', 'mse']\n"
     ]
    },
    {
     "name": "stderr",
     "output_type": "stream",
     "text": [
      "/usr/local/lib/python3.5/dist-packages/keras/engine/sequential.py:111: UserWarning: `Sequential.model` is deprecated. `Sequential` is a subclass of `Model`, you can just use your `Sequential` instance directly.\n",
      "  warnings.warn('`Sequential.model` is deprecated. '\n"
     ]
    },
    {
     "name": "stdout",
     "output_type": "stream",
     "text": [
      "That review looks like 0 star(s)!\n"
     ]
    }
   ],
   "source": [
    "arizona.fit_evaluate(n_epoch=5,review_sample=review,save=True)"
   ]
  },
  {
   "cell_type": "markdown",
   "metadata": {},
   "source": [
    "# North Carolina"
   ]
  },
  {
   "cell_type": "code",
   "execution_count": 10,
   "metadata": {},
   "outputs": [],
   "source": [
    "nc = neural_modeling('df_nc.p')"
   ]
  },
  {
   "cell_type": "code",
   "execution_count": 11,
   "metadata": {},
   "outputs": [
    {
     "name": "stdout",
     "output_type": "stream",
     "text": [
      "Model: \"sequential_5\"\n",
      "_________________________________________________________________\n",
      "Layer (type)                 Output Shape              Param #   \n",
      "=================================================================\n",
      "embedding_5 (Embedding)      (None, None, 150)         42816450  \n",
      "_________________________________________________________________\n",
      "conv1d_5 (Conv1D)            (None, None, 64)          48064     \n",
      "_________________________________________________________________\n",
      "bidirectional_5 (Bidirection (None, None, 128)         66048     \n",
      "_________________________________________________________________\n",
      "dropout_5 (Dropout)          (None, None, 128)         0         \n",
      "_________________________________________________________________\n",
      "global_max_pooling1d_5 (Glob (None, 128)               0         \n",
      "_________________________________________________________________\n",
      "dense_5 (Dense)              (None, 5)                 645       \n",
      "=================================================================\n",
      "Total params: 42,931,207\n",
      "Trainable params: 42,931,207\n",
      "Non-trainable params: 0\n",
      "_________________________________________________________________\n"
     ]
    },
    {
     "name": "stderr",
     "output_type": "stream",
     "text": [
      "/usr/local/lib/python3.5/dist-packages/tensorflow_core/python/framework/indexed_slices.py:433: UserWarning: Converting sparse IndexedSlices to a dense Tensor of unknown shape. This may consume a large amount of memory.\n",
      "  \"Converting sparse IndexedSlices to a dense Tensor of unknown shape. \"\n"
     ]
    },
    {
     "name": "stdout",
     "output_type": "stream",
     "text": [
      "Train on 68340 samples, validate on 7594 samples\n",
      "Epoch 1/5\n",
      "68340/68340 [==============================] - 167s 2ms/step - loss: 0.9264 - accuracy: 0.6021 - mse: 0.1015 - val_loss: 0.9139 - val_accuracy: 0.6450 - val_mse: 0.0992\n",
      "Epoch 2/5\n",
      "68340/68340 [==============================] - 166s 2ms/step - loss: 0.7117 - accuracy: 0.6944 - mse: 0.0813 - val_loss: 0.8809 - val_accuracy: 0.6500 - val_mse: 0.0962\n",
      "Epoch 3/5\n",
      "68340/68340 [==============================] - 166s 2ms/step - loss: 0.6033 - accuracy: 0.7475 - mse: 0.0694 - val_loss: 0.8406 - val_accuracy: 0.6405 - val_mse: 0.0937\n",
      "Epoch 4/5\n",
      "68340/68340 [==============================] - 166s 2ms/step - loss: 0.4933 - accuracy: 0.8025 - mse: 0.0564 - val_loss: 0.8471 - val_accuracy: 0.6300 - val_mse: 0.0952\n",
      "Epoch 5/5\n",
      "68340/68340 [==============================] - 165s 2ms/step - loss: 0.3841 - accuracy: 0.8510 - mse: 0.0434 - val_loss: 0.8901 - val_accuracy: 0.6275 - val_mse: 0.0986\n",
      "-------Accuracy------- \n",
      "\n",
      "18984/18984 [==============================] - 26s 1ms/step\n",
      "[0.8873901498553827, 0.6218394637107849, 0.09860353916883469]\n",
      "['loss', 'accuracy', 'mse']\n"
     ]
    },
    {
     "name": "stderr",
     "output_type": "stream",
     "text": [
      "/usr/local/lib/python3.5/dist-packages/keras/engine/sequential.py:111: UserWarning: `Sequential.model` is deprecated. `Sequential` is a subclass of `Model`, you can just use your `Sequential` instance directly.\n",
      "  warnings.warn('`Sequential.model` is deprecated. '\n"
     ]
    },
    {
     "name": "stdout",
     "output_type": "stream",
     "text": [
      "That review looks like 0 star(s)!\n"
     ]
    }
   ],
   "source": [
    "nc.fit_evaluate(n_epoch=5,review_sample=review,save=True)"
   ]
  },
  {
   "cell_type": "markdown",
   "metadata": {},
   "source": [
    "# Nevada"
   ]
  },
  {
   "cell_type": "code",
   "execution_count": 12,
   "metadata": {},
   "outputs": [],
   "source": [
    "nv = neural_modeling('df_nv.p')"
   ]
  },
  {
   "cell_type": "code",
   "execution_count": 13,
   "metadata": {},
   "outputs": [
    {
     "name": "stdout",
     "output_type": "stream",
     "text": [
      "Model: \"sequential_6\"\n",
      "_________________________________________________________________\n",
      "Layer (type)                 Output Shape              Param #   \n",
      "=================================================================\n",
      "embedding_6 (Embedding)      (None, None, 150)         49119000  \n",
      "_________________________________________________________________\n",
      "conv1d_6 (Conv1D)            (None, None, 64)          48064     \n",
      "_________________________________________________________________\n",
      "bidirectional_6 (Bidirection (None, None, 128)         66048     \n",
      "_________________________________________________________________\n",
      "dropout_6 (Dropout)          (None, None, 128)         0         \n",
      "_________________________________________________________________\n",
      "global_max_pooling1d_6 (Glob (None, 128)               0         \n",
      "_________________________________________________________________\n",
      "dense_6 (Dense)              (None, 5)                 645       \n",
      "=================================================================\n",
      "Total params: 49,233,757\n",
      "Trainable params: 49,233,757\n",
      "Non-trainable params: 0\n",
      "_________________________________________________________________\n"
     ]
    },
    {
     "name": "stderr",
     "output_type": "stream",
     "text": [
      "/usr/local/lib/python3.5/dist-packages/tensorflow_core/python/framework/indexed_slices.py:433: UserWarning: Converting sparse IndexedSlices to a dense Tensor of unknown shape. This may consume a large amount of memory.\n",
      "  \"Converting sparse IndexedSlices to a dense Tensor of unknown shape. \"\n"
     ]
    },
    {
     "name": "stdout",
     "output_type": "stream",
     "text": [
      "Train on 68252 samples, validate on 7584 samples\n",
      "Epoch 1/5\n",
      "68252/68252 [==============================] - 173s 3ms/step - loss: 0.8740 - accuracy: 0.6389 - mse: 0.0936 - val_loss: 0.8513 - val_accuracy: 0.6776 - val_mse: 0.0901\n",
      "Epoch 2/5\n",
      "68252/68252 [==============================] - 171s 3ms/step - loss: 0.6551 - accuracy: 0.7260 - mse: 0.0732 - val_loss: 0.8166 - val_accuracy: 0.6830 - val_mse: 0.0879\n",
      "Epoch 3/5\n",
      "68252/68252 [==============================] - 169s 2ms/step - loss: 0.5445 - accuracy: 0.7775 - mse: 0.0615 - val_loss: 0.7866 - val_accuracy: 0.6792 - val_mse: 0.0860\n",
      "Epoch 4/5\n",
      "68252/68252 [==============================] - 168s 2ms/step - loss: 0.4333 - accuracy: 0.8299 - mse: 0.0487 - val_loss: 0.8100 - val_accuracy: 0.6582 - val_mse: 0.0887\n",
      "Epoch 5/5\n",
      "68252/68252 [==============================] - 168s 2ms/step - loss: 0.3304 - accuracy: 0.8738 - mse: 0.0368 - val_loss: 0.8499 - val_accuracy: 0.6392 - val_mse: 0.0933\n",
      "-------Accuracy------- \n",
      "\n",
      "18959/18959 [==============================] - 25s 1ms/step\n",
      "[0.8616032525515832, 0.6416477560997009, 0.0935588851571083]\n",
      "['loss', 'accuracy', 'mse']\n"
     ]
    },
    {
     "name": "stderr",
     "output_type": "stream",
     "text": [
      "/usr/local/lib/python3.5/dist-packages/keras/engine/sequential.py:111: UserWarning: `Sequential.model` is deprecated. `Sequential` is a subclass of `Model`, you can just use your `Sequential` instance directly.\n",
      "  warnings.warn('`Sequential.model` is deprecated. '\n"
     ]
    },
    {
     "name": "stdout",
     "output_type": "stream",
     "text": [
      "That review looks like 4 star(s)!\n"
     ]
    }
   ],
   "source": [
    "nv.fit_evaluate(n_epoch=5,review_sample=review,save=True)"
   ]
  },
  {
   "cell_type": "markdown",
   "metadata": {},
   "source": [
    "# Ohio"
   ]
  },
  {
   "cell_type": "code",
   "execution_count": 14,
   "metadata": {},
   "outputs": [],
   "source": [
    "oh = neural_modeling('df_oh.p')"
   ]
  },
  {
   "cell_type": "code",
   "execution_count": 15,
   "metadata": {},
   "outputs": [
    {
     "name": "stdout",
     "output_type": "stream",
     "text": [
      "Model: \"sequential_7\"\n",
      "_________________________________________________________________\n",
      "Layer (type)                 Output Shape              Param #   \n",
      "=================================================================\n",
      "embedding_7 (Embedding)      (None, None, 150)         44339850  \n",
      "_________________________________________________________________\n",
      "conv1d_7 (Conv1D)            (None, None, 64)          48064     \n",
      "_________________________________________________________________\n",
      "bidirectional_7 (Bidirection (None, None, 128)         66048     \n",
      "_________________________________________________________________\n",
      "dropout_7 (Dropout)          (None, None, 128)         0         \n",
      "_________________________________________________________________\n",
      "global_max_pooling1d_7 (Glob (None, 128)               0         \n",
      "_________________________________________________________________\n",
      "dense_7 (Dense)              (None, 5)                 645       \n",
      "=================================================================\n",
      "Total params: 44,454,607\n",
      "Trainable params: 44,454,607\n",
      "Non-trainable params: 0\n",
      "_________________________________________________________________\n"
     ]
    },
    {
     "name": "stderr",
     "output_type": "stream",
     "text": [
      "/usr/local/lib/python3.5/dist-packages/tensorflow_core/python/framework/indexed_slices.py:433: UserWarning: Converting sparse IndexedSlices to a dense Tensor of unknown shape. This may consume a large amount of memory.\n",
      "  \"Converting sparse IndexedSlices to a dense Tensor of unknown shape. \"\n"
     ]
    },
    {
     "name": "stdout",
     "output_type": "stream",
     "text": [
      "Train on 68361 samples, validate on 7596 samples\n",
      "Epoch 1/5\n",
      "68361/68361 [==============================] - 167s 2ms/step - loss: 0.9402 - accuracy: 0.5935 - mse: 0.1029 - val_loss: 0.9067 - val_accuracy: 0.6443 - val_mse: 0.0989\n",
      "Epoch 2/5\n",
      "68361/68361 [==============================] - 168s 2ms/step - loss: 0.7255 - accuracy: 0.6918 - mse: 0.0827 - val_loss: 0.8822 - val_accuracy: 0.6395 - val_mse: 0.0966\n",
      "Epoch 3/5\n",
      "68361/68361 [==============================] - 165s 2ms/step - loss: 0.6119 - accuracy: 0.7458 - mse: 0.0703 - val_loss: 0.8455 - val_accuracy: 0.6394 - val_mse: 0.0949\n",
      "Epoch 4/5\n",
      "68361/68361 [==============================] - 166s 2ms/step - loss: 0.5003 - accuracy: 0.7997 - mse: 0.0571 - val_loss: 0.8611 - val_accuracy: 0.6177 - val_mse: 0.0972\n",
      "Epoch 5/5\n",
      "68361/68361 [==============================] - 165s 2ms/step - loss: 0.3912 - accuracy: 0.8485 - mse: 0.0442 - val_loss: 0.9184 - val_accuracy: 0.6029 - val_mse: 0.1021\n",
      "-------Accuracy------- \n",
      "\n",
      "18990/18990 [==============================] - 25s 1ms/step\n",
      "[0.9167582480891119, 0.6139547228813171, 0.1009662076830864]\n",
      "['loss', 'accuracy', 'mse']\n"
     ]
    },
    {
     "name": "stderr",
     "output_type": "stream",
     "text": [
      "/usr/local/lib/python3.5/dist-packages/keras/engine/sequential.py:111: UserWarning: `Sequential.model` is deprecated. `Sequential` is a subclass of `Model`, you can just use your `Sequential` instance directly.\n",
      "  warnings.warn('`Sequential.model` is deprecated. '\n"
     ]
    },
    {
     "name": "stdout",
     "output_type": "stream",
     "text": [
      "That review looks like 4 star(s)!\n"
     ]
    }
   ],
   "source": [
    "oh.fit_evaluate(n_epoch=5,review_sample=review,save=True)"
   ]
  },
  {
   "cell_type": "markdown",
   "metadata": {},
   "source": [
    "# Ontario"
   ]
  },
  {
   "cell_type": "code",
   "execution_count": 16,
   "metadata": {},
   "outputs": [],
   "source": [
    "on = neural_modeling('df_on.p')"
   ]
  },
  {
   "cell_type": "code",
   "execution_count": 17,
   "metadata": {},
   "outputs": [
    {
     "name": "stdout",
     "output_type": "stream",
     "text": [
      "Model: \"sequential_8\"\n",
      "_________________________________________________________________\n",
      "Layer (type)                 Output Shape              Param #   \n",
      "=================================================================\n",
      "embedding_8 (Embedding)      (None, None, 150)         54176850  \n",
      "_________________________________________________________________\n",
      "conv1d_8 (Conv1D)            (None, None, 64)          48064     \n",
      "_________________________________________________________________\n",
      "bidirectional_8 (Bidirection (None, None, 128)         66048     \n",
      "_________________________________________________________________\n",
      "dropout_8 (Dropout)          (None, None, 128)         0         \n",
      "_________________________________________________________________\n",
      "global_max_pooling1d_8 (Glob (None, 128)               0         \n",
      "_________________________________________________________________\n",
      "dense_8 (Dense)              (None, 5)                 645       \n",
      "=================================================================\n",
      "Total params: 54,291,607\n",
      "Trainable params: 54,291,607\n",
      "Non-trainable params: 0\n",
      "_________________________________________________________________\n"
     ]
    },
    {
     "name": "stderr",
     "output_type": "stream",
     "text": [
      "/usr/local/lib/python3.5/dist-packages/tensorflow_core/python/framework/indexed_slices.py:433: UserWarning: Converting sparse IndexedSlices to a dense Tensor of unknown shape. This may consume a large amount of memory.\n",
      "  \"Converting sparse IndexedSlices to a dense Tensor of unknown shape. \"\n"
     ]
    },
    {
     "name": "stdout",
     "output_type": "stream",
     "text": [
      "Train on 68249 samples, validate on 7584 samples\n",
      "Epoch 1/5\n",
      "68249/68249 [==============================] - 172s 3ms/step - loss: 1.0206 - accuracy: 0.5431 - mse: 0.1129 - val_loss: 0.9862 - val_accuracy: 0.5959 - val_mse: 0.1081\n",
      "Epoch 2/5\n",
      "68249/68249 [==============================] - 170s 2ms/step - loss: 0.7983 - accuracy: 0.6520 - mse: 0.0922 - val_loss: 0.9463 - val_accuracy: 0.6040 - val_mse: 0.1050\n",
      "Epoch 3/5\n",
      "68249/68249 [==============================] - 172s 3ms/step - loss: 0.6728 - accuracy: 0.7161 - mse: 0.0783 - val_loss: 0.9302 - val_accuracy: 0.5961 - val_mse: 0.1047\n",
      "Epoch 4/5\n",
      "68249/68249 [==============================] - 171s 3ms/step - loss: 0.5499 - accuracy: 0.7782 - mse: 0.0634 - val_loss: 0.9423 - val_accuracy: 0.5816 - val_mse: 0.1065\n",
      "Epoch 5/5\n",
      "68249/68249 [==============================] - 171s 3ms/step - loss: 0.4284 - accuracy: 0.8332 - mse: 0.0487 - val_loss: 0.9947 - val_accuracy: 0.5721 - val_mse: 0.1105\n",
      "-------Accuracy------- \n",
      "\n",
      "18959/18959 [==============================] - 26s 1ms/step\n",
      "[0.9918316122637851, 0.5689646005630493, 0.11109154671430588]\n",
      "['loss', 'accuracy', 'mse']\n"
     ]
    },
    {
     "name": "stderr",
     "output_type": "stream",
     "text": [
      "/usr/local/lib/python3.5/dist-packages/keras/engine/sequential.py:111: UserWarning: `Sequential.model` is deprecated. `Sequential` is a subclass of `Model`, you can just use your `Sequential` instance directly.\n",
      "  warnings.warn('`Sequential.model` is deprecated. '\n"
     ]
    },
    {
     "name": "stdout",
     "output_type": "stream",
     "text": [
      "That review looks like 4 star(s)!\n"
     ]
    }
   ],
   "source": [
    "on.fit_evaluate(n_epoch=5,review_sample=review,save=True)"
   ]
  },
  {
   "cell_type": "markdown",
   "metadata": {},
   "source": [
    "# Penn"
   ]
  },
  {
   "cell_type": "code",
   "execution_count": 18,
   "metadata": {},
   "outputs": [],
   "source": [
    "pa = neural_modeling('df_pa.p')"
   ]
  },
  {
   "cell_type": "code",
   "execution_count": 19,
   "metadata": {},
   "outputs": [
    {
     "name": "stdout",
     "output_type": "stream",
     "text": [
      "Model: \"sequential_9\"\n",
      "_________________________________________________________________\n",
      "Layer (type)                 Output Shape              Param #   \n",
      "=================================================================\n",
      "embedding_9 (Embedding)      (None, None, 150)         46362000  \n",
      "_________________________________________________________________\n",
      "conv1d_9 (Conv1D)            (None, None, 64)          48064     \n",
      "_________________________________________________________________\n",
      "bidirectional_9 (Bidirection (None, None, 128)         66048     \n",
      "_________________________________________________________________\n",
      "dropout_9 (Dropout)          (None, None, 128)         0         \n",
      "_________________________________________________________________\n",
      "global_max_pooling1d_9 (Glob (None, 128)               0         \n",
      "_________________________________________________________________\n",
      "dense_9 (Dense)              (None, 5)                 645       \n",
      "=================================================================\n",
      "Total params: 46,476,757\n",
      "Trainable params: 46,476,757\n",
      "Non-trainable params: 0\n",
      "_________________________________________________________________\n"
     ]
    },
    {
     "name": "stderr",
     "output_type": "stream",
     "text": [
      "/usr/local/lib/python3.5/dist-packages/tensorflow_core/python/framework/indexed_slices.py:433: UserWarning: Converting sparse IndexedSlices to a dense Tensor of unknown shape. This may consume a large amount of memory.\n",
      "  \"Converting sparse IndexedSlices to a dense Tensor of unknown shape. \"\n"
     ]
    },
    {
     "name": "stdout",
     "output_type": "stream",
     "text": [
      "Train on 68358 samples, validate on 7596 samples\n",
      "Epoch 1/5\n",
      "68358/68358 [==============================] - 169s 2ms/step - loss: 0.9389 - accuracy: 0.5940 - mse: 0.1031 - val_loss: 0.9198 - val_accuracy: 0.6427 - val_mse: 0.0998\n",
      "Epoch 2/5\n",
      "68358/68358 [==============================] - 166s 2ms/step - loss: 0.7269 - accuracy: 0.6858 - mse: 0.0833 - val_loss: 0.8707 - val_accuracy: 0.6472 - val_mse: 0.0957\n",
      "Epoch 3/5\n",
      "68358/68358 [==============================] - 168s 2ms/step - loss: 0.6121 - accuracy: 0.7424 - mse: 0.0708 - val_loss: 0.8863 - val_accuracy: 0.6255 - val_mse: 0.0979\n",
      "Epoch 4/5\n",
      "68358/68358 [==============================] - 167s 2ms/step - loss: 0.4972 - accuracy: 0.7982 - mse: 0.0573 - val_loss: 0.8877 - val_accuracy: 0.6205 - val_mse: 0.0989\n",
      "Epoch 5/5\n",
      "68358/68358 [==============================] - 168s 2ms/step - loss: 0.3889 - accuracy: 0.8473 - mse: 0.0443 - val_loss: 0.9288 - val_accuracy: 0.6126 - val_mse: 0.1021\n",
      "-------Accuracy------- \n",
      "\n",
      "18989/18989 [==============================] - 25s 1ms/step\n",
      "[0.9203332252704336, 0.6081415414810181, 0.1025063544511795]\n",
      "['loss', 'accuracy', 'mse']\n"
     ]
    },
    {
     "name": "stderr",
     "output_type": "stream",
     "text": [
      "/usr/local/lib/python3.5/dist-packages/keras/engine/sequential.py:111: UserWarning: `Sequential.model` is deprecated. `Sequential` is a subclass of `Model`, you can just use your `Sequential` instance directly.\n",
      "  warnings.warn('`Sequential.model` is deprecated. '\n"
     ]
    },
    {
     "name": "stdout",
     "output_type": "stream",
     "text": [
      "That review looks like 3 star(s)!\n"
     ]
    }
   ],
   "source": [
    "pa.fit_evaluate(n_epoch=5,review_sample=review,save=True)"
   ]
  },
  {
   "cell_type": "markdown",
   "metadata": {},
   "source": [
    "# Quebec"
   ]
  },
  {
   "cell_type": "code",
   "execution_count": 20,
   "metadata": {},
   "outputs": [],
   "source": [
    "qc = neural_modeling('df_qc.p')"
   ]
  },
  {
   "cell_type": "code",
   "execution_count": 21,
   "metadata": {},
   "outputs": [
    {
     "name": "stdout",
     "output_type": "stream",
     "text": [
      "Model: \"sequential_10\"\n",
      "_________________________________________________________________\n",
      "Layer (type)                 Output Shape              Param #   \n",
      "=================================================================\n",
      "embedding_10 (Embedding)     (None, None, 150)         43479750  \n",
      "_________________________________________________________________\n",
      "conv1d_10 (Conv1D)           (None, None, 64)          48064     \n",
      "_________________________________________________________________\n",
      "bidirectional_10 (Bidirectio (None, None, 128)         66048     \n",
      "_________________________________________________________________\n",
      "dropout_10 (Dropout)         (None, None, 128)         0         \n",
      "_________________________________________________________________\n",
      "global_max_pooling1d_10 (Glo (None, 128)               0         \n",
      "_________________________________________________________________\n",
      "dense_10 (Dense)             (None, 5)                 645       \n",
      "=================================================================\n",
      "Total params: 43,594,507\n",
      "Trainable params: 43,594,507\n",
      "Non-trainable params: 0\n",
      "_________________________________________________________________\n"
     ]
    },
    {
     "name": "stderr",
     "output_type": "stream",
     "text": [
      "/usr/local/lib/python3.5/dist-packages/tensorflow_core/python/framework/indexed_slices.py:433: UserWarning: Converting sparse IndexedSlices to a dense Tensor of unknown shape. This may consume a large amount of memory.\n",
      "  \"Converting sparse IndexedSlices to a dense Tensor of unknown shape. \"\n"
     ]
    },
    {
     "name": "stdout",
     "output_type": "stream",
     "text": [
      "Train on 59374 samples, validate on 6598 samples\n",
      "Epoch 1/5\n",
      "59374/59374 [==============================] - 146s 2ms/step - loss: 0.9676 - accuracy: 0.5684 - mse: 0.1079 - val_loss: 0.9186 - val_accuracy: 0.6106 - val_mse: 0.1016\n",
      "Epoch 2/5\n",
      "59374/59374 [==============================] - 145s 2ms/step - loss: 0.7425 - accuracy: 0.6754 - mse: 0.0865 - val_loss: 0.8809 - val_accuracy: 0.6158 - val_mse: 0.0994\n",
      "Epoch 3/5\n",
      "59374/59374 [==============================] - 145s 2ms/step - loss: 0.6182 - accuracy: 0.7399 - mse: 0.0723 - val_loss: 0.8865 - val_accuracy: 0.6028 - val_mse: 0.1015\n",
      "Epoch 4/5\n",
      "59374/59374 [==============================] - 144s 2ms/step - loss: 0.4957 - accuracy: 0.7988 - mse: 0.0575 - val_loss: 0.9075 - val_accuracy: 0.5847 - val_mse: 0.1039\n",
      "Epoch 5/5\n",
      "59374/59374 [==============================] - 144s 2ms/step - loss: 0.3806 - accuracy: 0.8522 - mse: 0.0434 - val_loss: 0.9450 - val_accuracy: 0.5903 - val_mse: 0.1069\n",
      "-------Accuracy------- \n",
      "\n",
      "16493/16493 [==============================] - 22s 1ms/step\n",
      "[0.938368110900173, 0.6021342277526855, 0.10491510480642319]\n",
      "['loss', 'accuracy', 'mse']\n"
     ]
    },
    {
     "name": "stderr",
     "output_type": "stream",
     "text": [
      "/usr/local/lib/python3.5/dist-packages/keras/engine/sequential.py:111: UserWarning: `Sequential.model` is deprecated. `Sequential` is a subclass of `Model`, you can just use your `Sequential` instance directly.\n",
      "  warnings.warn('`Sequential.model` is deprecated. '\n"
     ]
    },
    {
     "name": "stdout",
     "output_type": "stream",
     "text": [
      "That review looks like 4 star(s)!\n"
     ]
    }
   ],
   "source": [
    "qc.fit_evaluate(n_epoch=5,review_sample=review,save=True)"
   ]
  },
  {
   "cell_type": "markdown",
   "metadata": {},
   "source": [
    "# Wisconsin"
   ]
  },
  {
   "cell_type": "code",
   "execution_count": 22,
   "metadata": {},
   "outputs": [],
   "source": [
    "wi = neural_modeling('df_wi.p')"
   ]
  },
  {
   "cell_type": "code",
   "execution_count": 23,
   "metadata": {},
   "outputs": [
    {
     "name": "stdout",
     "output_type": "stream",
     "text": [
      "Model: \"sequential_11\"\n",
      "_________________________________________________________________\n",
      "Layer (type)                 Output Shape              Param #   \n",
      "=================================================================\n",
      "embedding_11 (Embedding)     (None, None, 150)         46235400  \n",
      "_________________________________________________________________\n",
      "conv1d_11 (Conv1D)           (None, None, 64)          48064     \n",
      "_________________________________________________________________\n",
      "bidirectional_11 (Bidirectio (None, None, 128)         66048     \n",
      "_________________________________________________________________\n",
      "dropout_11 (Dropout)         (None, None, 128)         0         \n",
      "_________________________________________________________________\n",
      "global_max_pooling1d_11 (Glo (None, 128)               0         \n",
      "_________________________________________________________________\n",
      "dense_11 (Dense)             (None, 5)                 645       \n",
      "=================================================================\n",
      "Total params: 46,350,157\n",
      "Trainable params: 46,350,157\n",
      "Non-trainable params: 0\n",
      "_________________________________________________________________\n"
     ]
    },
    {
     "name": "stderr",
     "output_type": "stream",
     "text": [
      "/usr/local/lib/python3.5/dist-packages/tensorflow_core/python/framework/indexed_slices.py:433: UserWarning: Converting sparse IndexedSlices to a dense Tensor of unknown shape. This may consume a large amount of memory.\n",
      "  \"Converting sparse IndexedSlices to a dense Tensor of unknown shape. \"\n"
     ]
    },
    {
     "name": "stdout",
     "output_type": "stream",
     "text": [
      "Train on 68364 samples, validate on 7596 samples\n",
      "Epoch 1/5\n",
      "68364/68364 [==============================] - 168s 2ms/step - loss: 0.9626 - accuracy: 0.5792 - mse: 0.1060 - val_loss: 0.9600 - val_accuracy: 0.6244 - val_mse: 0.1051\n",
      "Epoch 2/5\n",
      "68364/68364 [==============================] - 168s 2ms/step - loss: 0.7442 - accuracy: 0.6784 - mse: 0.0855 - val_loss: 0.8906 - val_accuracy: 0.6206 - val_mse: 0.0992\n",
      "Epoch 3/5\n",
      "68364/68364 [==============================] - 167s 2ms/step - loss: 0.6254 - accuracy: 0.7367 - mse: 0.0725 - val_loss: 0.8768 - val_accuracy: 0.6172 - val_mse: 0.0986\n",
      "Epoch 4/5\n",
      "68364/68364 [==============================] - 167s 2ms/step - loss: 0.5028 - accuracy: 0.7955 - mse: 0.0580 - val_loss: 0.8848 - val_accuracy: 0.6090 - val_mse: 0.1003\n",
      "Epoch 5/5\n",
      "68364/68364 [==============================] - 167s 2ms/step - loss: 0.3937 - accuracy: 0.8467 - mse: 0.0449 - val_loss: 0.9327 - val_accuracy: 0.6002 - val_mse: 0.1046\n",
      "-------Accuracy------- \n",
      "\n",
      "18990/18990 [==============================] - 25s 1ms/step\n",
      "[0.9484179427712889, 0.5965244770050049, 0.1050131618976593]\n",
      "['loss', 'accuracy', 'mse']\n"
     ]
    },
    {
     "name": "stderr",
     "output_type": "stream",
     "text": [
      "/usr/local/lib/python3.5/dist-packages/keras/engine/sequential.py:111: UserWarning: `Sequential.model` is deprecated. `Sequential` is a subclass of `Model`, you can just use your `Sequential` instance directly.\n",
      "  warnings.warn('`Sequential.model` is deprecated. '\n"
     ]
    },
    {
     "name": "stdout",
     "output_type": "stream",
     "text": [
      "That review looks like 4 star(s)!\n"
     ]
    }
   ],
   "source": [
    "wi.fit_evaluate(n_epoch=5,review_sample=review,save=True)"
   ]
  },
  {
   "cell_type": "code",
   "execution_count": null,
   "metadata": {},
   "outputs": [],
   "source": []
  }
 ],
 "metadata": {
  "kernelspec": {
   "display_name": "Python 3",
   "language": "python",
   "name": "python3"
  },
  "language_info": {
   "codemirror_mode": {
    "name": "ipython",
    "version": 3
   },
   "file_extension": ".py",
   "mimetype": "text/x-python",
   "name": "python",
   "nbconvert_exporter": "python",
   "pygments_lexer": "ipython3",
   "version": "3.5.3"
  }
 },
 "nbformat": 4,
 "nbformat_minor": 4
}
