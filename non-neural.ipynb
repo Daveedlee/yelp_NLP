{
 "cells": [
  {
   "cell_type": "code",
   "execution_count": 1,
   "metadata": {},
   "outputs": [],
   "source": [
    "from yhelper import non_neural"
   ]
  },
  {
   "cell_type": "markdown",
   "metadata": {},
   "source": [
    "# Nevada"
   ]
  },
  {
   "cell_type": "code",
   "execution_count": 2,
   "metadata": {},
   "outputs": [],
   "source": [
    "nevada = non_neural('post_eda/eda_nv.p')"
   ]
  },
  {
   "cell_type": "code",
   "execution_count": null,
   "metadata": {},
   "outputs": [
    {
     "name": "stderr",
     "output_type": "stream",
     "text": [
      "/opt/anaconda3/envs/learn-env/lib/python3.6/site-packages/sklearn/externals/six.py:31: DeprecationWarning: The module is deprecated in version 0.21 and will be removed in version 0.23 since we've dropped support for Python 2.7. Please rely on the official version of six (https://pypi.org/project/six/).\n",
      "  \"(https://pypi.org/project/six/).\", DeprecationWarning)\n"
     ]
    }
   ],
   "source": [
    "from imblearn.over_sampling import SMOTE\n",
    "\n",
    "smote = SMOTE()\n",
    "\n",
    "x_sm, y_sm = smote.fit_sample(nevada.X_train, nevada.y_train)"
   ]
  },
  {
   "cell_type": "code",
   "execution_count": null,
   "metadata": {},
   "outputs": [],
   "source": [
    "nevada.rf()"
   ]
  },
  {
   "cell_type": "code",
   "execution_count": null,
   "metadata": {},
   "outputs": [],
   "source": [
    "nevada.bnb()"
   ]
  },
  {
   "cell_type": "code",
   "execution_count": 22,
   "metadata": {},
   "outputs": [
    {
     "name": "stderr",
     "output_type": "stream",
     "text": [
      "[Parallel(n_jobs=-1)]: Using backend ThreadingBackend with 96 concurrent workers.\n",
      "[Parallel(n_jobs=-1)]: Done  12 out of  16 | elapsed:    6.0s remaining:    2.0s\n",
      "[Parallel(n_jobs=-1)]: Done  16 out of  16 | elapsed:    6.3s finished\n",
      "[Parallel(n_jobs=16)]: Using backend ThreadingBackend with 16 concurrent workers.\n",
      "[Parallel(n_jobs=16)]: Done   2 out of  16 | elapsed:    0.0s remaining:    0.3s\n",
      "[Parallel(n_jobs=16)]: Done  16 out of  16 | elapsed:    0.0s finished\n",
      "[Parallel(n_jobs=16)]: Using backend ThreadingBackend with 16 concurrent workers.\n",
      "[Parallel(n_jobs=16)]: Done   2 out of  16 | elapsed:    0.0s remaining:    0.2s\n",
      "[Parallel(n_jobs=16)]: Done  16 out of  16 | elapsed:    0.0s finished\n",
      "[Parallel(n_jobs=16)]: Using backend ThreadingBackend with 16 concurrent workers.\n",
      "[Parallel(n_jobs=16)]: Done   2 out of  16 | elapsed:    0.0s remaining:    0.2s\n",
      "[Parallel(n_jobs=16)]: Done  16 out of  16 | elapsed:    0.0s finished\n"
     ]
    },
    {
     "name": "stdout",
     "output_type": "stream",
     "text": [
      "Model Accuracy:  47.54\n",
      "Train\n",
      "-------------------------------------------------------\n",
      "              precision    recall  f1-score   support\n",
      "\n",
      "         1.0       0.80      0.04      0.07      8872\n",
      "         2.0       1.00      0.00      0.00      4878\n",
      "         3.0       1.00      0.00      0.00      6723\n",
      "         4.0       0.93      0.00      0.00     13025\n",
      "         5.0       0.48      1.00      0.64     30014\n",
      "\n",
      "    accuracy                           0.48     63512\n",
      "   macro avg       0.84      0.21      0.14     63512\n",
      "weighted avg       0.71      0.48      0.32     63512\n",
      "\n",
      "-------------------------------------------------------\n",
      "Test\n",
      "-------------------------------------------------------\n",
      "              precision    recall  f1-score   support\n",
      "\n",
      "         1.0       0.74      0.03      0.06      4400\n",
      "         2.0       0.00      0.00      0.00      2420\n",
      "         3.0       0.00      0.00      0.00      3198\n",
      "         4.0       0.18      0.00      0.00      6514\n",
      "         5.0       0.47      1.00      0.64     14751\n",
      "\n",
      "    accuracy                           0.48     31283\n",
      "   macro avg       0.28      0.21      0.14     31283\n",
      "weighted avg       0.37      0.48      0.31     31283\n",
      "\n"
     ]
    },
    {
     "name": "stderr",
     "output_type": "stream",
     "text": [
      "/home/jupyter/.local/lib/python3.5/site-packages/sklearn/metrics/_classification.py:1272: UndefinedMetricWarning: Precision and F-score are ill-defined and being set to 0.0 in labels with no predicted samples. Use `zero_division` parameter to control this behavior.\n",
      "  _warn_prf(average, modifier, msg_start, len(result))\n",
      "[Parallel(n_jobs=16)]: Using backend ThreadingBackend with 16 concurrent workers.\n",
      "[Parallel(n_jobs=16)]: Done   2 out of  16 | elapsed:    0.0s remaining:    0.2s\n",
      "[Parallel(n_jobs=16)]: Done  16 out of  16 | elapsed:    0.0s finished\n"
     ]
    },
    {
     "name": "stdout",
     "output_type": "stream",
     "text": [
      "ovo\n",
      "-------------------------------------------------------\n",
      "0.6969609782626803\n",
      "-------------------------------------------------------\n",
      "ovr\n",
      "-------------------------------------------------------\n",
      "0.7362731433536854\n"
     ]
    }
   ],
   "source": [
    "nevada.rf()"
   ]
  },
  {
   "cell_type": "code",
   "execution_count": 4,
   "metadata": {},
   "outputs": [
    {
     "name": "stdout",
     "output_type": "stream",
     "text": [
      "Model Accuracy:  53.74\n",
      "Naive Bayes:\n",
      " 1. train 2. test\n",
      "              precision    recall  f1-score   support\n",
      "\n",
      "         1.0       0.63      0.54      0.58      8933\n",
      "         2.0       0.58      0.17      0.27      4863\n",
      "         3.0       0.61      0.25      0.35      6762\n",
      "         4.0       0.47      0.39      0.43     13093\n",
      "         5.0       0.61      0.84      0.71     29861\n",
      "\n",
      "    accuracy                           0.59     63512\n",
      "   macro avg       0.58      0.44      0.47     63512\n",
      "weighted avg       0.58      0.59      0.56     63512\n",
      "\n",
      "-------------------------------------------------------\n",
      "              precision    recall  f1-score   support\n",
      "\n",
      "         1.0       0.56      0.49      0.52      4339\n",
      "         2.0       0.30      0.08      0.12      2435\n",
      "         3.0       0.28      0.12      0.17      3159\n",
      "         4.0       0.37      0.31      0.34      6446\n",
      "         5.0       0.60      0.81      0.69     14904\n",
      "\n",
      "    accuracy                           0.54     31283\n",
      "   macro avg       0.42      0.36      0.37     31283\n",
      "weighted avg       0.49      0.54      0.50     31283\n",
      "\n",
      "ovo\n",
      "-------------------------------------------------------\n",
      "0.7233897593291123\n",
      "-------------------------------------------------------\n",
      "ovr\n",
      "-------------------------------------------------------\n",
      "0.7637576861218397\n"
     ]
    }
   ],
   "source": [
    "nevada.bnb()"
   ]
  },
  {
   "cell_type": "markdown",
   "metadata": {},
   "source": [
    "# Arizona"
   ]
  },
  {
   "cell_type": "code",
   "execution_count": 23,
   "metadata": {},
   "outputs": [],
   "source": [
    "arizona = non_neural('post_eda/eda_az.p')"
   ]
  },
  {
   "cell_type": "code",
   "execution_count": 24,
   "metadata": {},
   "outputs": [
    {
     "name": "stderr",
     "output_type": "stream",
     "text": [
      "[Parallel(n_jobs=-1)]: Using backend ThreadingBackend with 96 concurrent workers.\n",
      "[Parallel(n_jobs=-1)]: Done  12 out of  16 | elapsed:    5.9s remaining:    2.0s\n",
      "[Parallel(n_jobs=-1)]: Done  16 out of  16 | elapsed:    6.2s finished\n",
      "[Parallel(n_jobs=16)]: Using backend ThreadingBackend with 16 concurrent workers.\n",
      "[Parallel(n_jobs=16)]: Done   2 out of  16 | elapsed:    0.0s remaining:    0.3s\n",
      "[Parallel(n_jobs=16)]: Done  16 out of  16 | elapsed:    0.0s finished\n",
      "[Parallel(n_jobs=16)]: Using backend ThreadingBackend with 16 concurrent workers.\n",
      "[Parallel(n_jobs=16)]: Done   2 out of  16 | elapsed:    0.0s remaining:    0.2s\n",
      "[Parallel(n_jobs=16)]: Done  16 out of  16 | elapsed:    0.0s finished\n",
      "[Parallel(n_jobs=16)]: Using backend ThreadingBackend with 16 concurrent workers.\n",
      "[Parallel(n_jobs=16)]: Done   2 out of  16 | elapsed:    0.0s remaining:    0.2s\n",
      "[Parallel(n_jobs=16)]: Done  16 out of  16 | elapsed:    0.0s finished\n"
     ]
    },
    {
     "name": "stdout",
     "output_type": "stream",
     "text": [
      "Model Accuracy:  50.15\n",
      "Train\n",
      "-------------------------------------------------------\n",
      "              precision    recall  f1-score   support\n",
      "\n",
      "         1.0       0.81      0.05      0.09      9583\n",
      "         2.0       1.00      0.00      0.00      4873\n",
      "         3.0       1.00      0.00      0.00      5547\n",
      "         4.0       0.71      0.00      0.00     11963\n",
      "         5.0       0.50      1.00      0.67     31647\n",
      "\n",
      "    accuracy                           0.50     63613\n",
      "   macro avg       0.81      0.21      0.15     63613\n",
      "weighted avg       0.67      0.50      0.35     63613\n",
      "\n",
      "-------------------------------------------------------\n",
      "Test\n",
      "-------------------------------------------------------\n",
      "              precision    recall  f1-score   support\n",
      "\n",
      "         1.0       0.73      0.03      0.06      4863\n",
      "         2.0       0.00      0.00      0.00      2361\n",
      "         3.0       0.00      0.00      0.00      2675\n",
      "         4.0       0.00      0.00      0.00      5872\n",
      "         5.0       0.50      1.00      0.67     15562\n",
      "\n",
      "    accuracy                           0.50     31333\n",
      "   macro avg       0.25      0.21      0.15     31333\n",
      "weighted avg       0.36      0.50      0.34     31333\n",
      "\n"
     ]
    },
    {
     "name": "stderr",
     "output_type": "stream",
     "text": [
      "/home/jupyter/.local/lib/python3.5/site-packages/sklearn/metrics/_classification.py:1272: UndefinedMetricWarning: Precision and F-score are ill-defined and being set to 0.0 in labels with no predicted samples. Use `zero_division` parameter to control this behavior.\n",
      "  _warn_prf(average, modifier, msg_start, len(result))\n",
      "[Parallel(n_jobs=16)]: Using backend ThreadingBackend with 16 concurrent workers.\n",
      "[Parallel(n_jobs=16)]: Done   2 out of  16 | elapsed:    0.0s remaining:    0.2s\n",
      "[Parallel(n_jobs=16)]: Done  16 out of  16 | elapsed:    0.0s finished\n"
     ]
    },
    {
     "name": "stdout",
     "output_type": "stream",
     "text": [
      "ovo\n",
      "-------------------------------------------------------\n",
      "0.68671091399369\n",
      "-------------------------------------------------------\n",
      "ovr\n",
      "-------------------------------------------------------\n",
      "0.7270669382393097\n"
     ]
    }
   ],
   "source": [
    "arizona.rf()"
   ]
  },
  {
   "cell_type": "code",
   "execution_count": 8,
   "metadata": {},
   "outputs": [
    {
     "name": "stdout",
     "output_type": "stream",
     "text": [
      "Model Accuracy:  56.050000000000004\n",
      "Naive Bayes:\n",
      " 1. train 2. test\n",
      "              precision    recall  f1-score   support\n",
      "\n",
      "         1.0       0.60      0.57      0.59      9698\n",
      "         2.0       0.49      0.20      0.29      4838\n",
      "         3.0       0.66      0.20      0.30      5525\n",
      "         4.0       0.45      0.36      0.40     11939\n",
      "         5.0       0.65      0.84      0.73     31613\n",
      "\n",
      "    accuracy                           0.61     63613\n",
      "   macro avg       0.57      0.44      0.46     63613\n",
      "weighted avg       0.59      0.61      0.58     63613\n",
      "\n",
      "-------------------------------------------------------\n",
      "              precision    recall  f1-score   support\n",
      "\n",
      "         1.0       0.55      0.53      0.54      4748\n",
      "         2.0       0.26      0.11      0.16      2396\n",
      "         3.0       0.26      0.07      0.11      2697\n",
      "         4.0       0.36      0.29      0.32      5896\n",
      "         5.0       0.63      0.83      0.72     15596\n",
      "\n",
      "    accuracy                           0.56     31333\n",
      "   macro avg       0.41      0.36      0.37     31333\n",
      "weighted avg       0.51      0.56      0.52     31333\n",
      "\n",
      "ovo\n",
      "-------------------------------------------------------\n",
      "0.7301607641475505\n",
      "-------------------------------------------------------\n",
      "ovr\n",
      "-------------------------------------------------------\n",
      "0.7741995965821097\n"
     ]
    }
   ],
   "source": [
    "arizona.bnb()"
   ]
  },
  {
   "cell_type": "markdown",
   "metadata": {},
   "source": [
    "# North Carolina"
   ]
  },
  {
   "cell_type": "code",
   "execution_count": 2,
   "metadata": {},
   "outputs": [],
   "source": [
    "n_carolina = non_neural('post_eda/eda_nc.p')"
   ]
  },
  {
   "cell_type": "code",
   "execution_count": 3,
   "metadata": {},
   "outputs": [
    {
     "name": "stderr",
     "output_type": "stream",
     "text": [
      "[Parallel(n_jobs=-1)]: Using backend ThreadingBackend with 96 concurrent workers.\n",
      "[Parallel(n_jobs=-1)]: Done   3 out of  64 | elapsed:   53.8s remaining: 18.2min\n",
      "[Parallel(n_jobs=-1)]: Done  64 out of  64 | elapsed:  1.1min finished\n",
      "[Parallel(n_jobs=64)]: Using backend ThreadingBackend with 64 concurrent workers.\n",
      "[Parallel(n_jobs=64)]: Done   2 out of  64 | elapsed:    0.4s remaining:   13.5s\n",
      "[Parallel(n_jobs=64)]: Done  64 out of  64 | elapsed:    0.7s finished\n",
      "[Parallel(n_jobs=64)]: Using backend ThreadingBackend with 64 concurrent workers.\n",
      "[Parallel(n_jobs=64)]: Done   2 out of  64 | elapsed:    0.1s remaining:    4.4s\n",
      "[Parallel(n_jobs=64)]: Done  64 out of  64 | elapsed:    0.3s finished\n",
      "[Parallel(n_jobs=64)]: Using backend ThreadingBackend with 64 concurrent workers.\n",
      "[Parallel(n_jobs=64)]: Done   2 out of  64 | elapsed:    0.2s remaining:    5.9s\n",
      "[Parallel(n_jobs=64)]: Done  64 out of  64 | elapsed:    0.3s finished\n"
     ]
    },
    {
     "name": "stdout",
     "output_type": "stream",
     "text": [
      "Model Accuracy:  52.42\n",
      "Train\n",
      "-------------------------------------------------------\n",
      "              precision    recall  f1-score   support\n",
      "\n",
      "         1.0       1.00      1.00      1.00      8453\n",
      "         2.0       1.00      1.00      1.00      5583\n",
      "         3.0       1.00      1.00      1.00      7589\n",
      "         4.0       1.00      1.00      1.00     15732\n",
      "         5.0       1.00      1.00      1.00     26238\n",
      "\n",
      "    accuracy                           1.00     63595\n",
      "   macro avg       1.00      1.00      1.00     63595\n",
      "weighted avg       1.00      1.00      1.00     63595\n",
      "\n",
      "-------------------------------------------------------\n",
      "Test\n",
      "-------------------------------------------------------\n",
      "              precision    recall  f1-score   support\n",
      "\n",
      "         1.0       0.68      0.56      0.61      4228\n",
      "         2.0       0.46      0.03      0.05      2795\n",
      "         3.0       0.45      0.06      0.11      3692\n",
      "         4.0       0.38      0.22      0.28      7545\n",
      "         5.0       0.53      0.92      0.67     13063\n",
      "\n",
      "    accuracy                           0.52     31323\n",
      "   macro avg       0.50      0.36      0.35     31323\n",
      "weighted avg       0.50      0.52      0.45     31323\n",
      "\n"
     ]
    },
    {
     "name": "stderr",
     "output_type": "stream",
     "text": [
      "[Parallel(n_jobs=64)]: Using backend ThreadingBackend with 64 concurrent workers.\n",
      "[Parallel(n_jobs=64)]: Done   2 out of  64 | elapsed:    0.2s remaining:    6.6s\n",
      "[Parallel(n_jobs=64)]: Done  64 out of  64 | elapsed:    0.3s finished\n"
     ]
    },
    {
     "name": "stdout",
     "output_type": "stream",
     "text": [
      "ovo\n",
      "-------------------------------------------------------\n",
      "0.7855954586149386\n",
      "-------------------------------------------------------\n",
      "ovr\n",
      "-------------------------------------------------------\n",
      "0.8059846535065299\n"
     ]
    }
   ],
   "source": [
    "n_carolina.rf()"
   ]
  },
  {
   "cell_type": "code",
   "execution_count": 4,
   "metadata": {},
   "outputs": [
    {
     "name": "stdout",
     "output_type": "stream",
     "text": [
      "Model Accuracy:  50.49\n",
      "Naive Bayes:\n",
      " 1. train 2. test\n",
      "              precision    recall  f1-score   support\n",
      "\n",
      "         1.0       0.64      0.55      0.59      8453\n",
      "         2.0       0.66      0.22      0.34      5583\n",
      "         3.0       0.51      0.31      0.39      7589\n",
      "         4.0       0.51      0.39      0.45     15732\n",
      "         5.0       0.57      0.82      0.67     26238\n",
      "\n",
      "    accuracy                           0.56     63595\n",
      "   macro avg       0.58      0.46      0.49     63595\n",
      "weighted avg       0.56      0.56      0.54     63595\n",
      "\n",
      "-------------------------------------------------------\n",
      "              precision    recall  f1-score   support\n",
      "\n",
      "         1.0       0.58      0.51      0.55      4228\n",
      "         2.0       0.36      0.10      0.16      2795\n",
      "         3.0       0.30      0.20      0.24      3692\n",
      "         4.0       0.40      0.31      0.35      7545\n",
      "         5.0       0.55      0.79      0.65     13063\n",
      "\n",
      "    accuracy                           0.50     31323\n",
      "   macro avg       0.44      0.38      0.39     31323\n",
      "weighted avg       0.47      0.50      0.47     31323\n",
      "\n",
      "ovo\n",
      "-------------------------------------------------------\n",
      "0.7357830084428193\n",
      "-------------------------------------------------------\n",
      "ovr\n",
      "-------------------------------------------------------\n",
      "0.7637508355119035\n"
     ]
    }
   ],
   "source": [
    "n_carolina.bnb()"
   ]
  },
  {
   "cell_type": "markdown",
   "metadata": {},
   "source": [
    "# Ohio"
   ]
  },
  {
   "cell_type": "code",
   "execution_count": 5,
   "metadata": {},
   "outputs": [],
   "source": [
    "oh = non_neural('post_eda/eda_oh.p')"
   ]
  },
  {
   "cell_type": "code",
   "execution_count": 6,
   "metadata": {},
   "outputs": [
    {
     "name": "stderr",
     "output_type": "stream",
     "text": [
      "[Parallel(n_jobs=-1)]: Using backend ThreadingBackend with 96 concurrent workers.\n",
      "[Parallel(n_jobs=-1)]: Done   3 out of  64 | elapsed:   56.8s remaining: 19.2min\n",
      "[Parallel(n_jobs=-1)]: Done  64 out of  64 | elapsed:  1.3min finished\n",
      "[Parallel(n_jobs=64)]: Using backend ThreadingBackend with 64 concurrent workers.\n",
      "[Parallel(n_jobs=64)]: Done   2 out of  64 | elapsed:    0.3s remaining:    9.0s\n",
      "[Parallel(n_jobs=64)]: Done  64 out of  64 | elapsed:    0.7s finished\n",
      "[Parallel(n_jobs=64)]: Using backend ThreadingBackend with 64 concurrent workers.\n",
      "[Parallel(n_jobs=64)]: Done   2 out of  64 | elapsed:    0.2s remaining:    6.0s\n",
      "[Parallel(n_jobs=64)]: Done  64 out of  64 | elapsed:    0.3s finished\n",
      "[Parallel(n_jobs=64)]: Using backend ThreadingBackend with 64 concurrent workers.\n",
      "[Parallel(n_jobs=64)]: Done   2 out of  64 | elapsed:    0.1s remaining:    3.9s\n",
      "[Parallel(n_jobs=64)]: Done  64 out of  64 | elapsed:    0.3s finished\n"
     ]
    },
    {
     "name": "stdout",
     "output_type": "stream",
     "text": [
      "Model Accuracy:  52.24\n",
      "Train\n",
      "-------------------------------------------------------\n",
      "              precision    recall  f1-score   support\n",
      "\n",
      "         1.0       1.00      1.00      1.00      8356\n",
      "         2.0       1.00      1.00      1.00      5853\n",
      "         3.0       1.00      1.00      1.00      7456\n",
      "         4.0       1.00      1.00      1.00     15583\n",
      "         5.0       1.00      1.00      1.00     26366\n",
      "\n",
      "    accuracy                           1.00     63614\n",
      "   macro avg       1.00      1.00      1.00     63614\n",
      "weighted avg       1.00      1.00      1.00     63614\n",
      "\n",
      "-------------------------------------------------------\n",
      "Test\n",
      "-------------------------------------------------------\n",
      "              precision    recall  f1-score   support\n",
      "\n",
      "         1.0       0.68      0.56      0.61      4083\n",
      "         2.0       0.39      0.02      0.04      2874\n",
      "         3.0       0.42      0.05      0.09      3623\n",
      "         4.0       0.39      0.20      0.26      7610\n",
      "         5.0       0.52      0.94      0.67     13143\n",
      "\n",
      "    accuracy                           0.52     31333\n",
      "   macro avg       0.48      0.35      0.34     31333\n",
      "weighted avg       0.49      0.52      0.44     31333\n",
      "\n"
     ]
    },
    {
     "name": "stderr",
     "output_type": "stream",
     "text": [
      "[Parallel(n_jobs=64)]: Using backend ThreadingBackend with 64 concurrent workers.\n",
      "[Parallel(n_jobs=64)]: Done   2 out of  64 | elapsed:    0.2s remaining:    6.2s\n",
      "[Parallel(n_jobs=64)]: Done  64 out of  64 | elapsed:    0.3s finished\n"
     ]
    },
    {
     "name": "stdout",
     "output_type": "stream",
     "text": [
      "ovo\n",
      "-------------------------------------------------------\n",
      "0.7829144657280438\n",
      "-------------------------------------------------------\n",
      "ovr\n",
      "-------------------------------------------------------\n",
      "0.8032114813162152\n"
     ]
    }
   ],
   "source": [
    "oh.rf()"
   ]
  },
  {
   "cell_type": "code",
   "execution_count": 7,
   "metadata": {},
   "outputs": [
    {
     "name": "stdout",
     "output_type": "stream",
     "text": [
      "Model Accuracy:  50.11\n",
      "Naive Bayes:\n",
      " 1. train 2. test\n",
      "              precision    recall  f1-score   support\n",
      "\n",
      "         1.0       0.67      0.55      0.60      8356\n",
      "         2.0       0.67      0.23      0.34      5853\n",
      "         3.0       0.52      0.29      0.37      7456\n",
      "         4.0       0.52      0.38      0.44     15583\n",
      "         5.0       0.56      0.83      0.67     26366\n",
      "\n",
      "    accuracy                           0.57     63614\n",
      "   macro avg       0.59      0.46      0.49     63614\n",
      "weighted avg       0.57      0.57      0.54     63614\n",
      "\n",
      "-------------------------------------------------------\n",
      "              precision    recall  f1-score   support\n",
      "\n",
      "         1.0       0.60      0.50      0.54      4083\n",
      "         2.0       0.35      0.11      0.16      2874\n",
      "         3.0       0.29      0.17      0.22      3623\n",
      "         4.0       0.40      0.30      0.34      7610\n",
      "         5.0       0.55      0.80      0.65     13143\n",
      "\n",
      "    accuracy                           0.50     31333\n",
      "   macro avg       0.44      0.37      0.38     31333\n",
      "weighted avg       0.47      0.50      0.46     31333\n",
      "\n",
      "ovo\n",
      "-------------------------------------------------------\n",
      "0.7312034561350056\n",
      "-------------------------------------------------------\n",
      "ovr\n",
      "-------------------------------------------------------\n",
      "0.7609268735230544\n"
     ]
    }
   ],
   "source": [
    "oh.bnb()"
   ]
  },
  {
   "cell_type": "markdown",
   "metadata": {},
   "source": [
    "# Onatario"
   ]
  },
  {
   "cell_type": "code",
   "execution_count": 2,
   "metadata": {},
   "outputs": [],
   "source": [
    "on = non_neural('post_eda/eda_on.p')"
   ]
  },
  {
   "cell_type": "code",
   "execution_count": 3,
   "metadata": {},
   "outputs": [
    {
     "name": "stderr",
     "output_type": "stream",
     "text": [
      "[Parallel(n_jobs=-1)]: Using backend ThreadingBackend with 96 concurrent workers.\n",
      "[Parallel(n_jobs=-1)]: Done   3 out of  64 | elapsed:  1.2min remaining: 24.6min\n",
      "[Parallel(n_jobs=-1)]: Done  64 out of  64 | elapsed:  1.5min finished\n",
      "[Parallel(n_jobs=64)]: Using backend ThreadingBackend with 64 concurrent workers.\n",
      "[Parallel(n_jobs=64)]: Done   2 out of  64 | elapsed:    0.5s remaining:   16.7s\n",
      "[Parallel(n_jobs=64)]: Done  64 out of  64 | elapsed:    0.9s finished\n",
      "[Parallel(n_jobs=64)]: Using backend ThreadingBackend with 64 concurrent workers.\n",
      "[Parallel(n_jobs=64)]: Done   2 out of  64 | elapsed:    0.2s remaining:    5.2s\n",
      "[Parallel(n_jobs=64)]: Done  64 out of  64 | elapsed:    0.3s finished\n",
      "[Parallel(n_jobs=64)]: Using backend ThreadingBackend with 64 concurrent workers.\n",
      "[Parallel(n_jobs=64)]: Done   2 out of  64 | elapsed:    0.2s remaining:    5.5s\n",
      "[Parallel(n_jobs=64)]: Done  64 out of  64 | elapsed:    0.3s finished\n"
     ]
    },
    {
     "name": "stdout",
     "output_type": "stream",
     "text": [
      "Model Accuracy:  47.57\n",
      "Train\n",
      "-------------------------------------------------------\n",
      "              precision    recall  f1-score   support\n",
      "\n",
      "         1.0       1.00      1.00      1.00      7258\n",
      "         2.0       1.00      1.00      1.00      6186\n",
      "         3.0       1.00      1.00      1.00     10807\n",
      "         4.0       1.00      1.00      1.00     19866\n",
      "         5.0       1.00      1.00      1.00     19393\n",
      "\n",
      "    accuracy                           1.00     63510\n",
      "   macro avg       1.00      1.00      1.00     63510\n",
      "weighted avg       1.00      1.00      1.00     63510\n",
      "\n",
      "-------------------------------------------------------\n",
      "Test\n",
      "-------------------------------------------------------\n",
      "              precision    recall  f1-score   support\n",
      "\n",
      "         1.0       0.68      0.55      0.61      3394\n",
      "         2.0       0.40      0.02      0.04      3131\n",
      "         3.0       0.40      0.12      0.19      5429\n",
      "         4.0       0.40      0.60      0.48      9759\n",
      "         5.0       0.53      0.68      0.59      9569\n",
      "\n",
      "    accuracy                           0.48     31282\n",
      "   macro avg       0.48      0.39      0.38     31282\n",
      "weighted avg       0.47      0.48      0.43     31282\n",
      "\n"
     ]
    },
    {
     "name": "stderr",
     "output_type": "stream",
     "text": [
      "[Parallel(n_jobs=64)]: Using backend ThreadingBackend with 64 concurrent workers.\n",
      "[Parallel(n_jobs=64)]: Done   2 out of  64 | elapsed:    0.2s remaining:    5.6s\n",
      "[Parallel(n_jobs=64)]: Done  64 out of  64 | elapsed:    0.3s finished\n"
     ]
    },
    {
     "name": "stdout",
     "output_type": "stream",
     "text": [
      "ovo\n",
      "-------------------------------------------------------\n",
      "0.7748224291230856\n",
      "-------------------------------------------------------\n",
      "ovr\n",
      "-------------------------------------------------------\n",
      "0.7803291955160307\n"
     ]
    }
   ],
   "source": [
    "on.rf()"
   ]
  },
  {
   "cell_type": "code",
   "execution_count": 4,
   "metadata": {},
   "outputs": [
    {
     "name": "stdout",
     "output_type": "stream",
     "text": [
      "Model Accuracy:  43.49\n",
      "Naive Bayes:\n",
      " 1. train 2. test\n",
      "              precision    recall  f1-score   support\n",
      "\n",
      "         1.0       0.68      0.48      0.56      7258\n",
      "         2.0       0.69      0.19      0.30      6186\n",
      "         3.0       0.58      0.35      0.44     10807\n",
      "         4.0       0.55      0.50      0.52     19866\n",
      "         5.0       0.47      0.77      0.58     19393\n",
      "\n",
      "    accuracy                           0.52     63510\n",
      "   macro avg       0.59      0.46      0.48     63510\n",
      "weighted avg       0.56      0.52      0.51     63510\n",
      "\n",
      "-------------------------------------------------------\n",
      "              precision    recall  f1-score   support\n",
      "\n",
      "         1.0       0.57      0.43      0.49      3394\n",
      "         2.0       0.34      0.07      0.12      3131\n",
      "         3.0       0.35      0.23      0.28      5429\n",
      "         4.0       0.43      0.38      0.41      9759\n",
      "         5.0       0.44      0.72      0.55      9569\n",
      "\n",
      "    accuracy                           0.43     31282\n",
      "   macro avg       0.43      0.37      0.37     31282\n",
      "weighted avg       0.43      0.43      0.41     31282\n",
      "\n",
      "ovo\n",
      "-------------------------------------------------------\n",
      "0.7271771028850523\n",
      "-------------------------------------------------------\n",
      "ovr\n",
      "-------------------------------------------------------\n",
      "0.7431813353464142\n"
     ]
    }
   ],
   "source": [
    "on.bnb()"
   ]
  },
  {
   "cell_type": "markdown",
   "metadata": {},
   "source": [
    "# Pennsylvania"
   ]
  },
  {
   "cell_type": "code",
   "execution_count": 2,
   "metadata": {},
   "outputs": [],
   "source": [
    "pa = non_neural('post_eda/eda_pa.p')"
   ]
  },
  {
   "cell_type": "code",
   "execution_count": 3,
   "metadata": {},
   "outputs": [
    {
     "name": "stderr",
     "output_type": "stream",
     "text": [
      "[Parallel(n_jobs=-1)]: Using backend ThreadingBackend with 96 concurrent workers.\n",
      "[Parallel(n_jobs=-1)]: Done   3 out of  64 | elapsed:  1.0min remaining: 20.7min\n",
      "[Parallel(n_jobs=-1)]: Done  64 out of  64 | elapsed:  1.2min finished\n",
      "[Parallel(n_jobs=64)]: Using backend ThreadingBackend with 64 concurrent workers.\n",
      "[Parallel(n_jobs=64)]: Done   2 out of  64 | elapsed:    0.5s remaining:   15.7s\n",
      "[Parallel(n_jobs=64)]: Done  64 out of  64 | elapsed:    0.8s finished\n",
      "[Parallel(n_jobs=64)]: Using backend ThreadingBackend with 64 concurrent workers.\n",
      "[Parallel(n_jobs=64)]: Done   2 out of  64 | elapsed:    0.2s remaining:    5.1s\n",
      "[Parallel(n_jobs=64)]: Done  64 out of  64 | elapsed:    0.3s finished\n",
      "[Parallel(n_jobs=64)]: Using backend ThreadingBackend with 64 concurrent workers.\n",
      "[Parallel(n_jobs=64)]: Done   2 out of  64 | elapsed:    0.2s remaining:    4.8s\n",
      "[Parallel(n_jobs=64)]: Done  64 out of  64 | elapsed:    0.3s finished\n"
     ]
    },
    {
     "name": "stdout",
     "output_type": "stream",
     "text": [
      "Model Accuracy:  50.43\n",
      "Train\n",
      "-------------------------------------------------------\n",
      "              precision    recall  f1-score   support\n",
      "\n",
      "         1.0       1.00      1.00      1.00      7414\n",
      "         2.0       1.00      1.00      1.00      5477\n",
      "         3.0       1.00      1.00      1.00      7976\n",
      "         4.0       1.00      1.00      1.00     16735\n",
      "         5.0       1.00      1.00      1.00     26009\n",
      "\n",
      "    accuracy                           1.00     63611\n",
      "   macro avg       1.00      1.00      1.00     63611\n",
      "weighted avg       1.00      1.00      1.00     63611\n",
      "\n",
      "-------------------------------------------------------\n",
      "Test\n",
      "-------------------------------------------------------\n",
      "              precision    recall  f1-score   support\n",
      "\n",
      "         1.0       0.70      0.49      0.58      3641\n",
      "         2.0       0.45      0.03      0.05      2788\n",
      "         3.0       0.42      0.05      0.08      3981\n",
      "         4.0       0.38      0.26      0.31      8162\n",
      "         5.0       0.51      0.91      0.66     12760\n",
      "\n",
      "    accuracy                           0.50     31332\n",
      "   macro avg       0.49      0.35      0.33     31332\n",
      "weighted avg       0.48      0.50      0.43     31332\n",
      "\n"
     ]
    },
    {
     "name": "stderr",
     "output_type": "stream",
     "text": [
      "[Parallel(n_jobs=64)]: Using backend ThreadingBackend with 64 concurrent workers.\n",
      "[Parallel(n_jobs=64)]: Done   2 out of  64 | elapsed:    0.2s remaining:    4.7s\n",
      "[Parallel(n_jobs=64)]: Done  64 out of  64 | elapsed:    0.3s finished\n"
     ]
    },
    {
     "name": "stdout",
     "output_type": "stream",
     "text": [
      "ovo\n",
      "-------------------------------------------------------\n",
      "0.7801697417679506\n",
      "-------------------------------------------------------\n",
      "ovr\n",
      "-------------------------------------------------------\n",
      "0.798427516847805\n"
     ]
    }
   ],
   "source": [
    "pa.rf()"
   ]
  },
  {
   "cell_type": "code",
   "execution_count": 4,
   "metadata": {},
   "outputs": [
    {
     "name": "stdout",
     "output_type": "stream",
     "text": [
      "Model Accuracy:  48.9\n",
      "Naive Bayes:\n",
      " 1. train 2. test\n",
      "              precision    recall  f1-score   support\n",
      "\n",
      "         1.0       0.67      0.50      0.57      7414\n",
      "         2.0       0.60      0.22      0.33      5477\n",
      "         3.0       0.55      0.30      0.39      7976\n",
      "         4.0       0.52      0.42      0.47     16735\n",
      "         5.0       0.55      0.81      0.66     26009\n",
      "\n",
      "    accuracy                           0.56     63611\n",
      "   macro avg       0.58      0.45      0.48     63611\n",
      "weighted avg       0.56      0.56      0.53     63611\n",
      "\n",
      "-------------------------------------------------------\n",
      "              precision    recall  f1-score   support\n",
      "\n",
      "         1.0       0.59      0.46      0.51      3641\n",
      "         2.0       0.33      0.11      0.17      2788\n",
      "         3.0       0.31      0.17      0.22      3981\n",
      "         4.0       0.41      0.33      0.37      8162\n",
      "         5.0       0.53      0.78      0.63     12760\n",
      "\n",
      "    accuracy                           0.49     31332\n",
      "   macro avg       0.44      0.37      0.38     31332\n",
      "weighted avg       0.46      0.49      0.46     31332\n",
      "\n",
      "ovo\n",
      "-------------------------------------------------------\n",
      "0.7314703924876602\n",
      "-------------------------------------------------------\n",
      "ovr\n",
      "-------------------------------------------------------\n",
      "0.7590033068754518\n"
     ]
    }
   ],
   "source": [
    "pa.bnb()"
   ]
  },
  {
   "cell_type": "markdown",
   "metadata": {},
   "source": [
    "# Quebec"
   ]
  },
  {
   "cell_type": "code",
   "execution_count": 5,
   "metadata": {},
   "outputs": [],
   "source": [
    "qc = non_neural('post_eda/eda_qc.p')"
   ]
  },
  {
   "cell_type": "code",
   "execution_count": 6,
   "metadata": {},
   "outputs": [
    {
     "name": "stderr",
     "output_type": "stream",
     "text": [
      "[Parallel(n_jobs=-1)]: Using backend ThreadingBackend with 96 concurrent workers.\n",
      "[Parallel(n_jobs=-1)]: Done   3 out of  64 | elapsed:   53.6s remaining: 18.2min\n",
      "[Parallel(n_jobs=-1)]: Done  64 out of  64 | elapsed:  1.2min finished\n",
      "[Parallel(n_jobs=64)]: Using backend ThreadingBackend with 64 concurrent workers.\n",
      "[Parallel(n_jobs=64)]: Done   2 out of  64 | elapsed:    0.3s remaining:    9.1s\n",
      "[Parallel(n_jobs=64)]: Done  64 out of  64 | elapsed:    0.5s finished\n",
      "[Parallel(n_jobs=64)]: Using backend ThreadingBackend with 64 concurrent workers.\n",
      "[Parallel(n_jobs=64)]: Done   2 out of  64 | elapsed:    0.2s remaining:    5.2s\n",
      "[Parallel(n_jobs=64)]: Done  64 out of  64 | elapsed:    0.3s finished\n",
      "[Parallel(n_jobs=64)]: Using backend ThreadingBackend with 64 concurrent workers.\n",
      "[Parallel(n_jobs=64)]: Done   2 out of  64 | elapsed:    0.2s remaining:    5.3s\n",
      "[Parallel(n_jobs=64)]: Done  64 out of  64 | elapsed:    0.3s finished\n"
     ]
    },
    {
     "name": "stdout",
     "output_type": "stream",
     "text": [
      "Model Accuracy:  49.36\n",
      "Train\n",
      "-------------------------------------------------------\n",
      "              precision    recall  f1-score   support\n",
      "\n",
      "         1.0       1.00      1.00      1.00      4221\n",
      "         2.0       1.00      1.00      1.00      3953\n",
      "         3.0       1.00      1.00      1.00      7250\n",
      "         4.0       1.00      1.00      1.00     17072\n",
      "         5.0       1.00      1.00      1.00     22755\n",
      "\n",
      "    accuracy                           1.00     55251\n",
      "   macro avg       1.00      1.00      1.00     55251\n",
      "weighted avg       1.00      1.00      1.00     55251\n",
      "\n",
      "-------------------------------------------------------\n",
      "Test\n",
      "-------------------------------------------------------\n",
      "              precision    recall  f1-score   support\n",
      "\n",
      "         1.0       0.75      0.32      0.44      2046\n",
      "         2.0       0.35      0.01      0.02      1968\n",
      "         3.0       0.44      0.05      0.09      3553\n",
      "         4.0       0.40      0.33      0.36      8382\n",
      "         5.0       0.52      0.87      0.65     11265\n",
      "\n",
      "    accuracy                           0.49     27214\n",
      "   macro avg       0.49      0.32      0.31     27214\n",
      "weighted avg       0.48      0.49      0.43     27214\n",
      "\n"
     ]
    },
    {
     "name": "stderr",
     "output_type": "stream",
     "text": [
      "[Parallel(n_jobs=64)]: Using backend ThreadingBackend with 64 concurrent workers.\n",
      "[Parallel(n_jobs=64)]: Done   2 out of  64 | elapsed:    0.2s remaining:    5.4s\n",
      "[Parallel(n_jobs=64)]: Done  64 out of  64 | elapsed:    0.3s finished\n"
     ]
    },
    {
     "name": "stdout",
     "output_type": "stream",
     "text": [
      "ovo\n",
      "-------------------------------------------------------\n",
      "0.7728712855778299\n",
      "-------------------------------------------------------\n",
      "ovr\n",
      "-------------------------------------------------------\n",
      "0.791713986576549\n"
     ]
    }
   ],
   "source": [
    "qc.rf()"
   ]
  },
  {
   "cell_type": "code",
   "execution_count": 7,
   "metadata": {},
   "outputs": [
    {
     "name": "stdout",
     "output_type": "stream",
     "text": [
      "Model Accuracy:  48.29\n",
      "Naive Bayes:\n",
      " 1. train 2. test\n",
      "              precision    recall  f1-score   support\n",
      "\n",
      "         1.0       0.76      0.38      0.51      4221\n",
      "         2.0       0.64      0.16      0.26      3953\n",
      "         3.0       0.58      0.27      0.37      7250\n",
      "         4.0       0.56      0.47      0.51     17072\n",
      "         5.0       0.56      0.85      0.68     22755\n",
      "\n",
      "    accuracy                           0.57     55251\n",
      "   macro avg       0.62      0.43      0.46     55251\n",
      "weighted avg       0.58      0.57      0.54     55251\n",
      "\n",
      "-------------------------------------------------------\n",
      "              precision    recall  f1-score   support\n",
      "\n",
      "         1.0       0.61      0.30      0.40      2046\n",
      "         2.0       0.27      0.06      0.09      1968\n",
      "         3.0       0.30      0.15      0.20      3553\n",
      "         4.0       0.42      0.37      0.39      8382\n",
      "         5.0       0.53      0.78      0.63     11265\n",
      "\n",
      "    accuracy                           0.48     27214\n",
      "   macro avg       0.43      0.33      0.34     27214\n",
      "weighted avg       0.45      0.48      0.44     27214\n",
      "\n",
      "ovo\n",
      "-------------------------------------------------------\n",
      "0.7118918078469777\n",
      "-------------------------------------------------------\n",
      "ovr\n",
      "-------------------------------------------------------\n",
      "0.754662697405743\n"
     ]
    }
   ],
   "source": [
    "qc.bnb()"
   ]
  },
  {
   "cell_type": "markdown",
   "metadata": {},
   "source": [
    "# Wisconsin"
   ]
  },
  {
   "cell_type": "code",
   "execution_count": 2,
   "metadata": {},
   "outputs": [],
   "source": [
    "wi = non_neural('post_eda/eda_wi.p')"
   ]
  },
  {
   "cell_type": "code",
   "execution_count": 3,
   "metadata": {},
   "outputs": [
    {
     "name": "stderr",
     "output_type": "stream",
     "text": [
      "[Parallel(n_jobs=-1)]: Using backend ThreadingBackend with 96 concurrent workers.\n",
      "[Parallel(n_jobs=-1)]: Done   3 out of  64 | elapsed:  1.0min remaining: 20.4min\n",
      "[Parallel(n_jobs=-1)]: Done  64 out of  64 | elapsed:  1.3min finished\n",
      "[Parallel(n_jobs=64)]: Using backend ThreadingBackend with 64 concurrent workers.\n",
      "[Parallel(n_jobs=64)]: Done   2 out of  64 | elapsed:    0.4s remaining:   13.5s\n",
      "[Parallel(n_jobs=64)]: Done  64 out of  64 | elapsed:    0.7s finished\n",
      "[Parallel(n_jobs=64)]: Using backend ThreadingBackend with 64 concurrent workers.\n",
      "[Parallel(n_jobs=64)]: Done   2 out of  64 | elapsed:    0.2s remaining:    6.0s\n",
      "[Parallel(n_jobs=64)]: Done  64 out of  64 | elapsed:    0.3s finished\n",
      "[Parallel(n_jobs=64)]: Using backend ThreadingBackend with 64 concurrent workers.\n",
      "[Parallel(n_jobs=64)]: Done   2 out of  64 | elapsed:    0.2s remaining:    5.1s\n",
      "[Parallel(n_jobs=64)]: Done  64 out of  64 | elapsed:    0.3s finished\n"
     ]
    },
    {
     "name": "stdout",
     "output_type": "stream",
     "text": [
      "Model Accuracy:  49.22\n",
      "Train\n",
      "-------------------------------------------------------\n",
      "              precision    recall  f1-score   support\n",
      "\n",
      "         1.0       1.00      1.00      1.00      6943\n",
      "         2.0       1.00      1.00      1.00      5970\n",
      "         3.0       1.00      1.00      1.00      8139\n",
      "         4.0       1.00      1.00      1.00     17476\n",
      "         5.0       1.00      1.00      1.00     25088\n",
      "\n",
      "    accuracy                           1.00     63616\n",
      "   macro avg       1.00      1.00      1.00     63616\n",
      "weighted avg       1.00      1.00      1.00     63616\n",
      "\n",
      "-------------------------------------------------------\n",
      "Test\n",
      "-------------------------------------------------------\n",
      "              precision    recall  f1-score   support\n",
      "\n",
      "         1.0       0.69      0.41      0.52      3485\n",
      "         2.0       0.41      0.04      0.08      2892\n",
      "         3.0       0.44      0.05      0.08      4080\n",
      "         4.0       0.39      0.31      0.34      8455\n",
      "         5.0       0.51      0.89      0.65     12422\n",
      "\n",
      "    accuracy                           0.49     31334\n",
      "   macro avg       0.49      0.34      0.33     31334\n",
      "weighted avg       0.48      0.49      0.42     31334\n",
      "\n"
     ]
    },
    {
     "name": "stderr",
     "output_type": "stream",
     "text": [
      "[Parallel(n_jobs=64)]: Using backend ThreadingBackend with 64 concurrent workers.\n",
      "[Parallel(n_jobs=64)]: Done   2 out of  64 | elapsed:    0.2s remaining:    6.1s\n",
      "[Parallel(n_jobs=64)]: Done  64 out of  64 | elapsed:    0.3s finished\n"
     ]
    },
    {
     "name": "stdout",
     "output_type": "stream",
     "text": [
      "ovo\n",
      "-------------------------------------------------------\n",
      "0.7769592819875031\n",
      "-------------------------------------------------------\n",
      "ovr\n",
      "-------------------------------------------------------\n",
      "0.7934676431687434\n"
     ]
    }
   ],
   "source": [
    "wi.rf()"
   ]
  },
  {
   "cell_type": "code",
   "execution_count": 4,
   "metadata": {},
   "outputs": [
    {
     "name": "stdout",
     "output_type": "stream",
     "text": [
      "Model Accuracy:  47.69\n",
      "Naive Bayes:\n",
      " 1. train 2. test\n",
      "              precision    recall  f1-score   support\n",
      "\n",
      "         1.0       0.63      0.48      0.55      6943\n",
      "         2.0       0.55      0.27      0.36      5970\n",
      "         3.0       0.57      0.29      0.38      8139\n",
      "         4.0       0.53      0.43      0.48     17476\n",
      "         5.0       0.55      0.81      0.65     25088\n",
      "\n",
      "    accuracy                           0.55     63616\n",
      "   macro avg       0.57      0.46      0.48     63616\n",
      "weighted avg       0.55      0.55      0.53     63616\n",
      "\n",
      "-------------------------------------------------------\n",
      "              precision    recall  f1-score   support\n",
      "\n",
      "         1.0       0.56      0.42      0.48      3485\n",
      "         2.0       0.33      0.16      0.21      2892\n",
      "         3.0       0.31      0.16      0.21      4080\n",
      "         4.0       0.40      0.34      0.37      8455\n",
      "         5.0       0.52      0.76      0.62     12422\n",
      "\n",
      "    accuracy                           0.48     31334\n",
      "   macro avg       0.43      0.37      0.38     31334\n",
      "weighted avg       0.45      0.48      0.45     31334\n",
      "\n",
      "ovo\n",
      "-------------------------------------------------------\n",
      "0.7248273577837471\n",
      "-------------------------------------------------------\n",
      "ovr\n",
      "-------------------------------------------------------\n",
      "0.7508752735083111\n"
     ]
    }
   ],
   "source": [
    "wi.bnb()"
   ]
  }
 ],
 "metadata": {
  "kernelspec": {
   "display_name": "Python 3",
   "language": "python",
   "name": "python3"
  },
  "language_info": {
   "codemirror_mode": {
    "name": "ipython",
    "version": 3
   },
   "file_extension": ".py",
   "mimetype": "text/x-python",
   "name": "python",
   "nbconvert_exporter": "python",
   "pygments_lexer": "ipython3",
   "version": "3.6.9"
  }
 },
 "nbformat": 4,
 "nbformat_minor": 4
}
