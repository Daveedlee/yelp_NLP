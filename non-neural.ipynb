{
 "cells": [
  {
   "cell_type": "code",
   "execution_count": 2,
   "metadata": {},
   "outputs": [
    {
     "name": "stderr",
     "output_type": "stream",
     "text": [
      "/usr/local/lib/python3.5/site-packages/sklearn/ensemble/weight_boosting.py:29: DeprecationWarning: numpy.core.umath_tests is an internal NumPy module and should not be imported. It will be removed in a future NumPy release.\n",
      "  from numpy.core.umath_tests import inner1d\n"
     ]
    }
   ],
   "source": [
    "import numpy as np\n",
    "import pickle\n",
    "import pandas as pd\n",
    "\n",
    "from sklearn.feature_extraction.text import CountVectorizer\n",
    "from sklearn.ensemble import RandomForestClassifier\n",
    "from sklearn.pipeline import Pipeline\n",
    "from sklearn.model_selection import cross_val_score\n",
    "from sklearn.naive_bayes import BernoulliNB\n",
    "from gensim.parsing.preprocessing import remove_stopwords\n",
    "from sklearn.model_selection import train_test_split\n",
    "from gensim.sklearn_api import W2VTransformer\n",
    "from sklearn.metrics import classification_report, confusion_matrix, roc_curve, auc\n",
    "from sklearn.naive_bayes import BernoulliNB"
   ]
  },
  {
   "cell_type": "markdown",
   "metadata": {},
   "source": [
    "# Alberta"
   ]
  },
  {
   "cell_type": "code",
   "execution_count": 3,
   "metadata": {},
   "outputs": [],
   "source": [
    "ab_df = pickle.load(open('post_eda/eda_ab.p', 'rb'))"
   ]
  },
  {
   "cell_type": "code",
   "execution_count": 9,
   "metadata": {},
   "outputs": [
    {
     "name": "stderr",
     "output_type": "stream",
     "text": [
      "[Parallel(n_jobs=1)]: Done  16 out of  16 | elapsed:    2.4s finished\n",
      "[Parallel(n_jobs=1)]: Done  16 out of  16 | elapsed:    1.2s finished\n",
      "[Parallel(n_jobs=1)]: Done  16 out of  16 | elapsed:    1.2s finished\n"
     ]
    },
    {
     "data": {
      "text/plain": [
       "46.75"
      ]
     },
     "execution_count": 9,
     "metadata": {},
     "output_type": "execute_result"
    }
   ],
   "source": [
    "word_list = list(ab_df['text'])\n",
    "vectorizer = CountVectorizer()\n",
    "vectorized = vectorizer.fit_transform(word_list)\n",
    "matrix_ab = pd.DataFrame(vectorized.toarray(), columns=vectorizer.get_feature_names())\n",
    "X_train, X_test, y_train, y_test = train_test_split(matrix_ab, ab_df.review_rating, test_size=0.33)\n",
    "\n",
    "rf = RandomForestClassifier(n_estimators=16, verbose=True)\n",
    "rf.fit(X_train, y_train)\n",
    "\n",
    "y_hat_train = rf.predict(X_train)\n",
    "y_hat_test = rf.predict(X_test)\n",
    "\n",
    "acc_random_forest = round(rf.score(X_test, y_test) * 100, 2)\n",
    "acc_random_forest"
   ]
  },
  {
   "cell_type": "code",
   "execution_count": 10,
   "metadata": {},
   "outputs": [
    {
     "name": "stdout",
     "output_type": "stream",
     "text": [
      "Decision Tree:\n",
      " 1. train 2. test\n",
      "             precision    recall  f1-score   support\n",
      "\n",
      "        1.0       1.00      1.00      1.00      9361\n",
      "        2.0       1.00      1.00      1.00      5816\n",
      "        3.0       1.00      1.00      1.00      8727\n",
      "        4.0       1.00      1.00      1.00     18445\n",
      "        5.0       1.00      1.00      1.00     21301\n",
      "\n",
      "avg / total       1.00      1.00      1.00     63650\n",
      "\n",
      "-------------------------------------------------------\n",
      "             precision    recall  f1-score   support\n",
      "\n",
      "        1.0       0.57      0.58      0.57      4565\n",
      "        2.0       0.26      0.06      0.09      2860\n",
      "        3.0       0.31      0.12      0.18      4297\n",
      "        4.0       0.40      0.47      0.43      9055\n",
      "        5.0       0.52      0.67      0.58     10573\n",
      "\n",
      "avg / total       0.44      0.47      0.44     31350\n",
      "\n"
     ]
    }
   ],
   "source": [
    "print('Decision Tree:\\n 1. train 2. test')\n",
    "print(classification_report(y_train, y_hat_train), \n",
    "      classification_report(y_test, y_hat_test), \n",
    "      sep='\\n-------------------------------------------------------\\n')"
   ]
  },
  {
   "cell_type": "code",
   "execution_count": null,
   "metadata": {},
   "outputs": [],
   "source": [
    "y_score = random_forest.predict_proba(X_test)\n",
    "\n",
    "fpr, tpr, threshold = roc_curve(y_test, y_score[:,1])\n",
    "\n",
    "print(auc(fpr,tpr), threshold)\n",
    "\n",
    "sns.set_style('darkgrid', {'axes.facecolor': '0.9'})\n",
    "\n",
    "print('AUC: {}'.format(auc(fpr, tpr)))\n",
    "plt.figure(figsize=(10, 8))\n",
    "lw = 2\n",
    "plt.plot(fpr, tpr, color='darkorange',\n",
    "         lw=lw, label='ROC curve')\n",
    "plt.plot([0, 1], [0, 1], color='navy', lw=lw, linestyle='--')\n",
    "plt.xlim([0.0, 1.0])\n",
    "plt.ylim([0.0, 1.05])\n",
    "plt.yticks([i/20.0 for i in range(21)])\n",
    "plt.xticks([i/20.0 for i in range(21)])\n",
    "plt.xlabel('False Positive Rate')\n",
    "plt.ylabel('True Positive Rate')\n",
    "plt.title('Receiver operating characteristic (ROC) Curve')\n",
    "plt.legend(loc='lower right')\n",
    "plt.show();"
   ]
  },
  {
   "cell_type": "code",
   "execution_count": 11,
   "metadata": {},
   "outputs": [
    {
     "data": {
      "text/plain": [
       "53.75"
      ]
     },
     "execution_count": 11,
     "metadata": {},
     "output_type": "execute_result"
    }
   ],
   "source": [
    "bnb = BernoulliNB()\n",
    "bnb.fit(X_train, y_train)\n",
    "y_hat_train = bnb.predict(X_train)\n",
    "y_hat_test = bnb.predict(X_test)\n",
    "acc_bnb = round(bnb.score(X_train, y_train) * 100, 2)\n",
    "acc_bnb"
   ]
  },
  {
   "cell_type": "code",
   "execution_count": 12,
   "metadata": {},
   "outputs": [
    {
     "name": "stdout",
     "output_type": "stream",
     "text": [
      "Naive Bayes:\n",
      " 1. train 2. test\n",
      "             precision    recall  f1-score   support\n",
      "\n",
      "        1.0       0.66      0.57      0.61      9361\n",
      "        2.0       0.68      0.18      0.29      5816\n",
      "        3.0       0.60      0.28      0.39      8727\n",
      "        4.0       0.54      0.47      0.51     18445\n",
      "        5.0       0.49      0.78      0.60     21301\n",
      "\n",
      "avg / total       0.56      0.54      0.52     63650\n",
      "\n",
      "-------------------------------------------------------\n",
      "             precision    recall  f1-score   support\n",
      "\n",
      "        1.0       0.60      0.53      0.56      4565\n",
      "        2.0       0.32      0.07      0.12      2860\n",
      "        3.0       0.33      0.17      0.22      4297\n",
      "        4.0       0.43      0.37      0.40      9055\n",
      "        5.0       0.46      0.73      0.56     10573\n",
      "\n",
      "avg / total       0.44      0.46      0.43     31350\n",
      "\n"
     ]
    }
   ],
   "source": [
    "print('Naive Bayes:\\n 1. train 2. test')\n",
    "print(classification_report(y_train, y_hat_train), \n",
    "      classification_report(y_test, y_hat_test), \n",
    "      sep='\\n-------------------------------------------------------\\n')"
   ]
  },
  {
   "cell_type": "code",
   "execution_count": null,
   "metadata": {},
   "outputs": [],
   "source": [
    "y_score = gaussian.predict_proba(X_test)\n",
    "\n",
    "fpr, tpr, threshold = roc_curve(y_test, y_score[:,1])\n",
    "\n",
    "print(auc(fpr,tpr), threshold)\n",
    "\n",
    "sns.set_style('darkgrid', {'axes.facecolor': '0.9'})\n",
    "\n",
    "print('AUC: {}'.format(auc(fpr, tpr)))\n",
    "plt.figure(figsize=(10, 8))\n",
    "lw = 2\n",
    "plt.plot(fpr, tpr, color='darkorange',\n",
    "         lw=lw, label='ROC curve')\n",
    "plt.plot([0, 1], [0, 1], color='navy', lw=lw, linestyle='--')\n",
    "plt.xlim([0.0, 1.0])\n",
    "plt.ylim([0.0, 1.05])\n",
    "plt.yticks([i/20.0 for i in range(21)])\n",
    "plt.xticks([i/20.0 for i in range(21)])\n",
    "plt.xlabel('False Positive Rate')\n",
    "plt.ylabel('True Positive Rate')\n",
    "plt.title('Receiver operating characteristic (ROC) Curve')\n",
    "plt.legend(loc='lower right')\n",
    "plt.show()"
   ]
  },
  {
   "cell_type": "markdown",
   "metadata": {},
   "source": [
    "# Nevada"
   ]
  },
  {
   "cell_type": "code",
   "execution_count": 2,
   "metadata": {},
   "outputs": [],
   "source": [
    "nv_df = pickle.load(open('post_eda/eda_nv.p', 'rb'))"
   ]
  },
  {
   "cell_type": "code",
   "execution_count": 8,
   "metadata": {},
   "outputs": [
    {
     "data": {
      "text/plain": [
       "(95000, 12)"
      ]
     },
     "execution_count": 8,
     "metadata": {},
     "output_type": "execute_result"
    }
   ],
   "source": [
    "nv_df.shape"
   ]
  },
  {
   "cell_type": "code",
   "execution_count": 14,
   "metadata": {},
   "outputs": [
    {
     "name": "stderr",
     "output_type": "stream",
     "text": [
      "[Parallel(n_jobs=1)]: Done  32 out of  32 | elapsed: 22.6min finished\n"
     ]
    },
    {
     "data": {
      "text/plain": [
       "RandomForestClassifier(bootstrap=True, class_weight=None, criterion='gini',\n",
       "            max_depth=None, max_features='auto', max_leaf_nodes=None,\n",
       "            min_impurity_decrease=0.0, min_impurity_split=None,\n",
       "            min_samples_leaf=1, min_samples_split=2,\n",
       "            min_weight_fraction_leaf=0.0, n_estimators=32, n_jobs=1,\n",
       "            oob_score=False, random_state=None, verbose=True,\n",
       "            warm_start=False)"
      ]
     },
     "execution_count": 14,
     "metadata": {},
     "output_type": "execute_result"
    }
   ],
   "source": [
    "word_list = list(nv_df['text'])\n",
    "\n",
    "vectorized = vectorizer.fit_transform(word_list)\n",
    "data_matrix = pd.DataFrame(vectorized.toarray(), columns=vectorizer.get_feature_names())\n",
    "X_train, X_test, y_train, y_test = train_test_split(data_matrix, nv_df.review_rating, test_size=0.33)\n",
    "\n",
    "rf = RandomForestClassifier(n_estimators=16, verbose=True)\n",
    "rf.fit(X_train, y_train)\n",
    "\n",
    "y_hat_train = rf.predict(X_train)\n",
    "y_hat_test = rf.predict(X_test)\n",
    "acc_random_forest = round(rf.score(X_test, y_test) * 100, 2)\n",
    "acc_random_forest"
   ]
  },
  {
   "cell_type": "code",
   "execution_count": 17,
   "metadata": {},
   "outputs": [
    {
     "name": "stdout",
     "output_type": "stream",
     "text": [
      "Decision Tree:\n",
      " 1. train 2. test\n",
      "             precision    recall  f1-score   support\n",
      "\n",
      "        1.0       1.00      1.00      1.00      9634\n",
      "        2.0       1.00      1.00      1.00      4774\n",
      "        3.0       1.00      1.00      1.00      6534\n",
      "        4.0       1.00      1.00      1.00     12574\n",
      "        5.0       1.00      1.00      1.00     30134\n",
      "\n",
      "avg / total       1.00      1.00      1.00     63650\n",
      "\n",
      "-------------------------------------------------------\n",
      "             precision    recall  f1-score   support\n",
      "\n",
      "        1.0       0.65      0.53      0.59      4610\n",
      "        2.0       0.35      0.02      0.03      2555\n",
      "        3.0       0.38      0.05      0.09      3191\n",
      "        4.0       0.34      0.13      0.19      6312\n",
      "        5.0       0.57      0.95      0.71     14682\n",
      "\n",
      "avg / total       0.50      0.56      0.47     31350\n",
      "\n"
     ]
    }
   ],
   "source": [
    "print('Random Forest:\\n 1. train 2. test')\n",
    "print(classification_report(y_train, y_hat_train), \n",
    "      classification_report(y_test, y_hat_test), \n",
    "      sep='\\n-------------------------------------------------------\\n')"
   ]
  },
  {
   "cell_type": "code",
   "execution_count": null,
   "metadata": {},
   "outputs": [],
   "source": [
    "y_score = random_forest.predict_proba(X_test)\n",
    "\n",
    "fpr, tpr, threshold = roc_curve(y_test, y_score[:,1])\n",
    "\n",
    "print(auc(fpr,tpr), threshold)\n",
    "\n",
    "sns.set_style('darkgrid', {'axes.facecolor': '0.9'})\n",
    "\n",
    "print('AUC: {}'.format(auc(fpr, tpr)))\n",
    "plt.figure(figsize=(10, 8))\n",
    "lw = 2\n",
    "plt.plot(fpr, tpr, color='darkorange',\n",
    "         lw=lw, label='ROC curve')\n",
    "plt.plot([0, 1], [0, 1], color='navy', lw=lw, linestyle='--')\n",
    "plt.xlim([0.0, 1.0])\n",
    "plt.ylim([0.0, 1.05])\n",
    "plt.yticks([i/20.0 for i in range(21)])a\n",
    "plt.xticks([i/20.0 for i in range(21)])\n",
    "plt.xlabel('False Positive Rate')\n",
    "plt.ylabel('True Positive Rate')\n",
    "plt.title('Receiver operating characteristic (ROC) Curve')\n",
    "plt.legend(loc='lower right')\n",
    "plt.show();"
   ]
  },
  {
   "cell_type": "code",
   "execution_count": 18,
   "metadata": {},
   "outputs": [
    {
     "data": {
      "text/plain": [
       "59.43"
      ]
     },
     "execution_count": 18,
     "metadata": {},
     "output_type": "execute_result"
    }
   ],
   "source": [
    "bnb = BernoulliNB()\n",
    "bnb.fit(X_train, y_train)\n",
    "y_hat_train = bnb.predict(X_train)\n",
    "y_hat_test = bnb.predict(X_test)\n",
    "acc_bnb = round(bnb.score(X_train, y_train) * 100, 2)\n",
    "acc_bnb"
   ]
  },
  {
   "cell_type": "code",
   "execution_count": 19,
   "metadata": {},
   "outputs": [
    {
     "name": "stdout",
     "output_type": "stream",
     "text": [
      "Decision Tree:\n",
      " 1. train 2. test\n",
      "             precision    recall  f1-score   support\n",
      "\n",
      "        1.0       0.63      0.56      0.59      9634\n",
      "        2.0       0.60      0.17      0.26      4774\n",
      "        3.0       0.58      0.23      0.33      6534\n",
      "        4.0       0.48      0.39      0.43     12574\n",
      "        5.0       0.62      0.84      0.71     30134\n",
      "\n",
      "avg / total       0.59      0.59      0.56     63650\n",
      "\n",
      "-------------------------------------------------------\n",
      "             precision    recall  f1-score   support\n",
      "\n",
      "        1.0       0.57      0.52      0.54      4610\n",
      "        2.0       0.24      0.05      0.09      2555\n",
      "        3.0       0.26      0.11      0.16      3191\n",
      "        4.0       0.37      0.29      0.32      6312\n",
      "        5.0       0.59      0.82      0.69     14682\n",
      "\n",
      "avg / total       0.48      0.53      0.49     31350\n",
      "\n"
     ]
    }
   ],
   "source": [
    "print('Naive Bayes:\\n 1. train 2. test')\n",
    "print(classification_report(y_train, y_hat_train), \n",
    "      classification_report(y_test, y_hat_test), \n",
    "      sep='\\n-------------------------------------------------------\\n')"
   ]
  },
  {
   "cell_type": "code",
   "execution_count": null,
   "metadata": {},
   "outputs": [],
   "source": [
    "y_score = gaussian.predict_proba(X_test)\n",
    "\n",
    "fpr, tpr, threshold = roc_curve(y_test, y_score[:,1])\n",
    "\n",
    "print(auc(fpr,tpr), threshold)\n",
    "\n",
    "sns.set_style('darkgrid', {'axes.facecolor': '0.9'})\n",
    "\n",
    "print('AUC: {}'.format(auc(fpr, tpr)))\n",
    "plt.figure(figsize=(10, 8))\n",
    "lw = 2\n",
    "plt.plot(fpr, tpr, color='darkorange',\n",
    "         lw=lw, label='ROC curve')\n",
    "plt.plot([0, 1], [0, 1], color='navy', lw=lw, linestyle='--')\n",
    "plt.xlim([0.0, 1.0])\n",
    "plt.ylim([0.0, 1.05])\n",
    "plt.yticks([i/20.0 for i in range(21)])\n",
    "plt.xticks([i/20.0 for i in range(21)])\n",
    "plt.xlabel('False Positive Rate')\n",
    "plt.ylabel('True Positive Rate')\n",
    "plt.title('Receiver operating characteristic (ROC) Curve')\n",
    "plt.legend(loc='lower right')\n",
    "plt.show()"
   ]
  },
  {
   "cell_type": "code",
   "execution_count": null,
   "metadata": {},
   "outputs": [],
   "source": [
    "#"
   ]
  }
 ],
 "metadata": {
  "kernelspec": {
   "display_name": "Python 3",
   "language": "python",
   "name": "python3"
  },
  "language_info": {
   "codemirror_mode": {
    "name": "ipython",
    "version": 3
   },
   "file_extension": ".py",
   "mimetype": "text/x-python",
   "name": "python",
   "nbconvert_exporter": "python",
   "pygments_lexer": "ipython3",
   "version": "3.5.3"
  }
 },
 "nbformat": 4,
 "nbformat_minor": 4
}
