{
 "cells": [
  {
   "cell_type": "code",
   "execution_count": 1,
   "metadata": {},
   "outputs": [
    {
     "name": "stderr",
     "output_type": "stream",
     "text": [
      "/usr/local/lib/python3.5/site-packages/sklearn/ensemble/weight_boosting.py:29: DeprecationWarning: numpy.core.umath_tests is an internal NumPy module and should not be imported. It will be removed in a future NumPy release.\n",
      "  from numpy.core.umath_tests import inner1d\n"
     ]
    }
   ],
   "source": [
    "import numpy as np\n",
    "import pickle\n",
    "import pandas as pd\n",
    "from sklearn.feature_extraction.text import CountVectorizer\n",
    "from sklearn.ensemble import RandomForestClassifier\n",
    "from sklearn.model_selection import cross_val_score\n",
    "from sklearn.naive_bayes import BernoulliNB\n",
    "from gensim.parsing.preprocessing import remove_stopwords\n",
    "from sklearn.model_selection import train_test_split\n",
    "from gensim.sklearn_api import W2VTransformer\n",
    "from sklearn.metrics import classification_report, confusion_matrix, roc_curve, auc\n",
    "from sklearn.naive_bayes import BernoulliNB"
   ]
  },
  {
   "cell_type": "markdown",
   "metadata": {},
   "source": [
    "# Nevada"
   ]
  },
  {
   "cell_type": "code",
   "execution_count": null,
   "metadata": {},
   "outputs": [],
   "source": [
    "nv_df = pickle.load(open('post_eda/eda_nv.p', 'rb'))\n",
    "word_list = list(nv_df['text'])\n",
    "\n",
    "vectorizer = CountVectorizer()\n",
    "vectorized = vectorizer.fit_transform(word_list)\n",
    "data_matrix = pd.DataFrame(vectorized.toarray(), columns=vectorizer.get_feature_names())\n",
    "X_train, X_test, y_train, y_test = train_test_split(data_matrix, nv_df.review_rating, test_size=0.33)\n",
    "\n",
    "rf = RandomForestClassifier(n_estimators=16, verbose=True)\n",
    "rf.fit(X_train, y_train)\n",
    "\n",
    "y_hat_train = rf.predict(X_train)\n",
    "y_hat_test = rf.predict(X_test)\n",
    "acc_random_forest = round(rf.score(X_test, y_test) * 100, 2)\n",
    "acc_random_forest"
   ]
  },
  {
   "cell_type": "code",
   "execution_count": null,
   "metadata": {},
   "outputs": [],
   "source": [
    "print('Random Forest:\\n 1. train 2. test')\n",
    "print(classification_report(y_train, y_hat_train), \n",
    "      classification_report(y_test, y_hat_test), \n",
    "      sep='\\n-------------------------------------------------------\\n')"
   ]
  },
  {
   "cell_type": "code",
   "execution_count": null,
   "metadata": {},
   "outputs": [],
   "source": [
    "y_score = rf.predict_proba(X_test)\n",
    "\n",
    "fpr, tpr, threshold = roc_curve(y_test, y_score[:,1])\n",
    "\n",
    "print(auc(fpr,tpr), threshold)\n",
    "\n",
    "sns.set_style('darkgrid', {'axes.facecolor': '0.9'})\n",
    "\n",
    "print('AUC: {}'.format(auc(fpr, tpr)))\n",
    "plt.figure(figsize=(10, 8))\n",
    "lw = 2\n",
    "plt.plot(fpr, tpr, color='darkorange',\n",
    "         lw=lw, label='ROC curve')\n",
    "plt.plot([0, 1], [0, 1], color='navy', lw=lw, linestyle='--')\n",
    "plt.xlim([0.0, 1.0])\n",
    "plt.ylim([0.0, 1.05])\n",
    "plt.yticks([i/20.0 for i in range(21)])a\n",
    "plt.xticks([i/20.0 for i in range(21)])\n",
    "plt.xlabel('False Positive Rate')\n",
    "plt.ylabel('True Positive Rate')\n",
    "plt.title('Receiver operating characteristic (ROC) Curve')\n",
    "plt.legend(loc='lower right')\n",
    "plt.show();"
   ]
  },
  {
   "cell_type": "code",
   "execution_count": null,
   "metadata": {},
   "outputs": [],
   "source": [
    "bnb = BernoulliNB()\n",
    "bnb.fit(X_train, y_train)\n",
    "y_hat_train = bnb.predict(X_train)\n",
    "y_hat_test = bnb.predict(X_test)\n",
    "acc_bnb = round(bnb.score(X_train, y_train) * 100, 2)\n",
    "acc_bnb"
   ]
  },
  {
   "cell_type": "code",
   "execution_count": null,
   "metadata": {},
   "outputs": [],
   "source": [
    "print('Naive Bayes:\\n 1. train 2. test')\n",
    "print(classification_report(y_train, y_hat_train), \n",
    "      classification_report(y_test, y_hat_test), \n",
    "      sep='\\n-------------------------------------------------------\\n')"
   ]
  },
  {
   "cell_type": "code",
   "execution_count": null,
   "metadata": {},
   "outputs": [],
   "source": [
    "y_score = bnb.predict_proba(X_test)\n",
    "\n",
    "fpr, tpr, threshold = roc_curve(y_test, y_score[:,1])\n",
    "\n",
    "print(auc(fpr,tpr), threshold)\n",
    "\n",
    "sns.set_style('darkgrid', {'axes.facecolor': '0.9'})\n",
    "\n",
    "print('AUC: {}'.format(auc(fpr, tpr)))\n",
    "plt.figure(figsize=(10, 8))\n",
    "lw = 2\n",
    "plt.plot(fpr, tpr, color='darkorange',\n",
    "         lw=lw, label='ROC curve')\n",
    "plt.plot([0, 1], [0, 1], color='navy', lw=lw, linestyle='--')\n",
    "plt.xlim([0.0, 1.0])\n",
    "plt.ylim([0.0, 1.05])\n",
    "plt.yticks([i/20.0 for i in range(21)])\n",
    "plt.xticks([i/20.0 for i in range(21)])\n",
    "plt.xlabel('False Positive Rate')\n",
    "plt.ylabel('True Positive Rate')\n",
    "plt.title('Receiver operating characteristic (ROC) Curve')\n",
    "plt.legend(loc='lower right')\n",
    "plt.show();"
   ]
  },
  {
   "cell_type": "markdown",
   "metadata": {},
   "source": [
    "# Arizona"
   ]
  },
  {
   "cell_type": "code",
   "execution_count": null,
   "metadata": {},
   "outputs": [],
   "source": [
    "az_df = pickle.load(open('post_eda/eda_az.p', 'rb'))\n",
    "word_list = list(az_df['text'])\n",
    "\n",
    "vectorized = vectorizer.fit_transform(word_list)\n",
    "data_matrix = pd.DataFrame(vectorized.toarray(), columns=vectorizer.get_feature_names())\n",
    "X_train, X_test, y_train, y_test = train_test_split(data_matrix, az_df.review_rating, test_size=0.33)\n",
    "\n",
    "rf = RandomForestClassifier(n_estimators=16, verbose=True)\n",
    "rf.fit(X_train, y_train)\n",
    "\n",
    "y_hat_train = rf.predict(X_train)\n",
    "y_hat_test = rf.predict(X_test)\n",
    "acc_random_forest = round(rf.score(X_test, y_test) * 100, 2)\n",
    "acc_random_forest"
   ]
  },
  {
   "cell_type": "code",
   "execution_count": null,
   "metadata": {},
   "outputs": [],
   "source": [
    "print('Random Forest:\\n 1. train 2. test')\n",
    "print(classification_report(y_train, y_hat_train), \n",
    "      classification_report(y_test, y_hat_test), \n",
    "      sep='\\n-------------------------------------------------------\\n')"
   ]
  },
  {
   "cell_type": "code",
   "execution_count": null,
   "metadata": {},
   "outputs": [],
   "source": [
    "y_score = rf.predict_proba(X_test)\n",
    "\n",
    "fpr, tpr, threshold = roc_curve(y_test, y_score[:,1])\n",
    "\n",
    "print(auc(fpr,tpr), threshold)\n",
    "\n",
    "sns.set_style('darkgrid', {'axes.facecolor': '0.9'})\n",
    "\n",
    "print('AUC: {}'.format(auc(fpr, tpr)))\n",
    "plt.figure(figsize=(10, 8))\n",
    "lw = 2\n",
    "plt.plot(fpr, tpr, color='darkorange',\n",
    "         lw=lw, label='ROC curve')\n",
    "plt.plot([0, 1], [0, 1], color='navy', lw=lw, linestyle='--')\n",
    "plt.xlim([0.0, 1.0])\n",
    "plt.ylim([0.0, 1.05])\n",
    "plt.yticks([i/20.0 for i in range(21)])a\n",
    "plt.xticks([i/20.0 for i in range(21)])\n",
    "plt.xlabel('False Positive Rate')\n",
    "plt.ylabel('True Positive Rate')\n",
    "plt.title('Receiver operating characteristic (ROC) Curve')\n",
    "plt.legend(loc='lower right')\n",
    "plt.show();"
   ]
  },
  {
   "cell_type": "code",
   "execution_count": null,
   "metadata": {},
   "outputs": [],
   "source": [
    "bnb = BernoulliNB()\n",
    "bnb.fit(X_train, y_train)\n",
    "y_hat_train = bnb.predict(X_train)\n",
    "y_hat_test = bnb.predict(X_test)\n",
    "acc_bnb = round(bnb.score(X_train, y_train) * 100, 2)\n",
    "acc_bnb"
   ]
  },
  {
   "cell_type": "code",
   "execution_count": null,
   "metadata": {},
   "outputs": [],
   "source": [
    "print('Naive Bayes:\\n 1. train 2. test')\n",
    "print(classification_report(y_train, y_hat_train), \n",
    "      classification_report(y_test, y_hat_test), \n",
    "      sep='\\n-------------------------------------------------------\\n')"
   ]
  },
  {
   "cell_type": "code",
   "execution_count": null,
   "metadata": {},
   "outputs": [],
   "source": [
    "y_score = bnb.predict_proba(X_test)\n",
    "\n",
    "fpr, tpr, threshold = roc_curve(y_test, y_score[:,1])\n",
    "\n",
    "print(auc(fpr,tpr), threshold)\n",
    "\n",
    "sns.set_style('darkgrid', {'axes.facecolor': '0.9'})\n",
    "\n",
    "print('AUC: {}'.format(auc(fpr, tpr)))\n",
    "plt.figure(figsize=(10, 8))\n",
    "lw = 2\n",
    "plt.plot(fpr, tpr, color='darkorange',\n",
    "         lw=lw, label='ROC curve')\n",
    "plt.plot([0, 1], [0, 1], color='navy', lw=lw, linestyle='--')\n",
    "plt.xlim([0.0, 1.0])\n",
    "plt.ylim([0.0, 1.05])\n",
    "plt.yticks([i/20.0 for i in range(21)])\n",
    "plt.xticks([i/20.0 for i in range(21)])\n",
    "plt.xlabel('False Positive Rate')\n",
    "plt.ylabel('True Positive Rate')\n",
    "plt.title('Receiver operating characteristic (ROC) Curve')\n",
    "plt.legend(loc='lower right')\n",
    "plt.show();"
   ]
  },
  {
   "cell_type": "markdown",
   "metadata": {},
   "source": [
    "# North Carolina"
   ]
  },
  {
   "cell_type": "code",
   "execution_count": null,
   "metadata": {},
   "outputs": [],
   "source": [
    "nc_df = pickle.load(open('post_eda/eda_nc.p', 'rb'))\n",
    "word_list = list(nc_df['text'])\n",
    "\n",
    "vectorized = vectorizer.fit_transform(word_list)\n",
    "data_matrix = pd.DataFrame(vectorized.toarray(), columns=vectorizer.get_feature_names())\n",
    "X_train, X_test, y_train, y_test = train_test_split(data_matrix, nc_df.review_rating, test_size=0.33)\n",
    "\n",
    "rf = RandomForestClassifier(n_estimators=16, verbose=True)\n",
    "rf.fit(X_train, y_train)\n",
    "\n",
    "y_hat_train = rf.predict(X_train)\n",
    "y_hat_test = rf.predict(X_test)\n",
    "acc_random_forest = round(rf.score(X_test, y_test) * 100, 2)\n",
    "acc_random_forest"
   ]
  },
  {
   "cell_type": "code",
   "execution_count": null,
   "metadata": {},
   "outputs": [],
   "source": [
    "print('Random Forest:\\n 1. train 2. test')\n",
    "print(classification_report(y_train, y_hat_train), \n",
    "      classification_report(y_test, y_hat_test), \n",
    "      sep='\\n-------------------------------------------------------\\n')"
   ]
  },
  {
   "cell_type": "code",
   "execution_count": null,
   "metadata": {},
   "outputs": [],
   "source": [
    "y_score = rf.predict_proba(X_test)\n",
    "\n",
    "fpr, tpr, threshold = roc_curve(y_test, y_score[:,1])\n",
    "\n",
    "print(auc(fpr,tpr), threshold)\n",
    "\n",
    "sns.set_style('darkgrid', {'axes.facecolor': '0.9'})\n",
    "\n",
    "print('AUC: {}'.format(auc(fpr, tpr)))\n",
    "plt.figure(figsize=(10, 8))\n",
    "lw = 2\n",
    "plt.plot(fpr, tpr, color='darkorange',\n",
    "         lw=lw, label='ROC curve')\n",
    "plt.plot([0, 1], [0, 1], color='navy', lw=lw, linestyle='--')\n",
    "plt.xlim([0.0, 1.0])\n",
    "plt.ylim([0.0, 1.05])\n",
    "plt.yticks([i/20.0 for i in range(21)])a\n",
    "plt.xticks([i/20.0 for i in range(21)])\n",
    "plt.xlabel('False Positive Rate')\n",
    "plt.ylabel('True Positive Rate')\n",
    "plt.title('Receiver operating characteristic (ROC) Curve')\n",
    "plt.legend(loc='lower right')\n",
    "plt.show();"
   ]
  },
  {
   "cell_type": "code",
   "execution_count": null,
   "metadata": {},
   "outputs": [],
   "source": [
    "bnb = BernoulliNB()\n",
    "bnb.fit(X_train, y_train)\n",
    "y_hat_train = bnb.predict(X_train)\n",
    "y_hat_test = bnb.predict(X_test)\n",
    "acc_bnb = round(bnb.score(X_train, y_train) * 100, 2)\n",
    "acc_bnb"
   ]
  },
  {
   "cell_type": "code",
   "execution_count": null,
   "metadata": {},
   "outputs": [],
   "source": [
    "print('Naive Bayes:\\n 1. train 2. test')\n",
    "print(classification_report(y_train, y_hat_train), \n",
    "      classification_report(y_test, y_hat_test), \n",
    "      sep='\\n-------------------------------------------------------\\n')"
   ]
  },
  {
   "cell_type": "code",
   "execution_count": null,
   "metadata": {},
   "outputs": [],
   "source": [
    "y_score = bnb.predict_proba(X_test)\n",
    "\n",
    "fpr, tpr, threshold = roc_curve(y_test, y_score[:,1])\n",
    "\n",
    "print(auc(fpr,tpr), threshold)\n",
    "\n",
    "sns.set_style('darkgrid', {'axes.facecolor': '0.9'})\n",
    "\n",
    "print('AUC: {}'.format(auc(fpr, tpr)))\n",
    "plt.figure(figsize=(10, 8))\n",
    "lw = 2\n",
    "plt.plot(fpr, tpr, color='darkorange',\n",
    "         lw=lw, label='ROC curve')\n",
    "plt.plot([0, 1], [0, 1], color='navy', lw=lw, linestyle='--')\n",
    "plt.xlim([0.0, 1.0])\n",
    "plt.ylim([0.0, 1.05])\n",
    "plt.yticks([i/20.0 for i in range(21)])\n",
    "plt.xticks([i/20.0 for i in range(21)])\n",
    "plt.xlabel('False Positive Rate')\n",
    "plt.ylabel('True Positive Rate')\n",
    "plt.title('Receiver operating characteristic (ROC) Curve')\n",
    "plt.legend(loc='lower right')\n",
    "plt.show();"
   ]
  },
  {
   "cell_type": "markdown",
   "metadata": {},
   "source": [
    "# Ohio"
   ]
  },
  {
   "cell_type": "code",
   "execution_count": null,
   "metadata": {},
   "outputs": [],
   "source": [
    "oh_df = pickle.load(open('post_eda/eda_oh.p', 'rb'))\n",
    "word_list = list(oh_df['text'])\n",
    "\n",
    "vectorized = vectorizer.fit_transform(word_list)\n",
    "data_matrix = pd.DataFrame(vectorized.toarray(), columns=vectorizer.get_feature_names())\n",
    "X_train, X_test, y_train, y_test = train_test_split(data_matrix, oh_df.review_rating, test_size=0.33)\n",
    "\n",
    "rf = RandomForestClassifier(n_estimators=16, verbose=True)\n",
    "rf.fit(X_train, y_train)\n",
    "\n",
    "y_hat_train = rf.predict(X_train)\n",
    "y_hat_test = rf.predict(X_test)\n",
    "acc_random_forest = round(rf.score(X_test, y_test) * 100, 2)\n",
    "acc_random_forest"
   ]
  },
  {
   "cell_type": "code",
   "execution_count": null,
   "metadata": {},
   "outputs": [],
   "source": [
    "print('Random Forest:\\n 1. train 2. test')\n",
    "print(classification_report(y_train, y_hat_train), \n",
    "      classification_report(y_test, y_hat_test), \n",
    "      sep='\\n-------------------------------------------------------\\n')"
   ]
  },
  {
   "cell_type": "code",
   "execution_count": null,
   "metadata": {},
   "outputs": [],
   "source": [
    "y_score = rf.predict_proba(X_test)\n",
    "\n",
    "fpr, tpr, threshold = roc_curve(y_test, y_score[:,1])\n",
    "\n",
    "print(auc(fpr,tpr), threshold)\n",
    "\n",
    "sns.set_style('darkgrid', {'axes.facecolor': '0.9'})\n",
    "\n",
    "print('AUC: {}'.format(auc(fpr, tpr)))\n",
    "plt.figure(figsize=(10, 8))\n",
    "lw = 2\n",
    "plt.plot(fpr, tpr, color='darkorange',\n",
    "         lw=lw, label='ROC curve')\n",
    "plt.plot([0, 1], [0, 1], color='navy', lw=lw, linestyle='--')\n",
    "plt.xlim([0.0, 1.0])\n",
    "plt.ylim([0.0, 1.05])\n",
    "plt.yticks([i/20.0 for i in range(21)])a\n",
    "plt.xticks([i/20.0 for i in range(21)])\n",
    "plt.xlabel('False Positive Rate')\n",
    "plt.ylabel('True Positive Rate')\n",
    "plt.title('Receiver operating characteristic (ROC) Curve')\n",
    "plt.legend(loc='lower right')\n",
    "plt.show();"
   ]
  },
  {
   "cell_type": "code",
   "execution_count": null,
   "metadata": {},
   "outputs": [],
   "source": [
    "bnb = BernoulliNB()\n",
    "bnb.fit(X_train, y_train)\n",
    "y_hat_train = bnb.predict(X_train)\n",
    "y_hat_test = bnb.predict(X_test)\n",
    "acc_bnb = round(bnb.score(X_train, y_train) * 100, 2)\n",
    "acc_bnb"
   ]
  },
  {
   "cell_type": "code",
   "execution_count": null,
   "metadata": {},
   "outputs": [],
   "source": [
    "print('Naive Bayes:\\n 1. train 2. test')\n",
    "print(classification_report(y_train, y_hat_train), \n",
    "      classification_report(y_test, y_hat_test), \n",
    "      sep='\\n-------------------------------------------------------\\n')"
   ]
  },
  {
   "cell_type": "code",
   "execution_count": null,
   "metadata": {},
   "outputs": [],
   "source": [
    "y_score = bnb.predict_proba(X_test)\n",
    "\n",
    "fpr, tpr, threshold = roc_curve(y_test, y_score[:,1])\n",
    "\n",
    "print(auc(fpr,tpr), threshold)\n",
    "\n",
    "sns.set_style('darkgrid', {'axes.facecolor': '0.9'})\n",
    "\n",
    "print('AUC: {}'.format(auc(fpr, tpr)))\n",
    "plt.figure(figsize=(10, 8))\n",
    "lw = 2\n",
    "plt.plot(fpr, tpr, color='darkorange',\n",
    "         lw=lw, label='ROC curve')\n",
    "plt.plot([0, 1], [0, 1], color='navy', lw=lw, linestyle='--')\n",
    "plt.xlim([0.0, 1.0])\n",
    "plt.ylim([0.0, 1.05])\n",
    "plt.yticks([i/20.0 for i in range(21)])\n",
    "plt.xticks([i/20.0 for i in range(21)])\n",
    "plt.xlabel('False Positive Rate')\n",
    "plt.ylabel('True Positive Rate')\n",
    "plt.title('Receiver operating characteristic (ROC) Curve')\n",
    "plt.legend(loc='lower right')\n",
    "plt.show();"
   ]
  },
  {
   "cell_type": "markdown",
   "metadata": {},
   "source": [
    "# Onatario"
   ]
  },
  {
   "cell_type": "code",
   "execution_count": null,
   "metadata": {},
   "outputs": [],
   "source": [
    "on_df = pickle.load(open('post_eda/eda_on.p', 'rb'))\n",
    "word_list = list(on_df['text'])\n",
    "\n",
    "vectorized = vectorizer.fit_transform(word_list)\n",
    "data_matrix = pd.DataFrame(vectorized.toarray(), columns=vectorizer.get_feature_names())\n",
    "X_train, X_test, y_train, y_test = train_test_split(data_matrix, on_df.review_rating, test_size=0.33)\n",
    "\n",
    "rf = RandomForestClassifier(n_estimators=16, verbose=True)\n",
    "rf.fit(X_train, y_train)\n",
    "\n",
    "y_hat_train = rf.predict(X_train)\n",
    "y_hat_test = rf.predict(X_test)\n",
    "acc_random_forest = round(rf.score(X_test, y_test) * 100, 2)\n",
    "acc_random_forest"
   ]
  },
  {
   "cell_type": "code",
   "execution_count": null,
   "metadata": {},
   "outputs": [],
   "source": [
    "print('Random Forest:\\n 1. train 2. test')\n",
    "print(classification_report(y_train, y_hat_train), \n",
    "      classification_report(y_test, y_hat_test), \n",
    "      sep='\\n-------------------------------------------------------\\n')"
   ]
  },
  {
   "cell_type": "code",
   "execution_count": null,
   "metadata": {},
   "outputs": [],
   "source": [
    "y_score = rf.predict_proba(X_test)\n",
    "\n",
    "fpr, tpr, threshold = roc_curve(y_test, y_score[:,1])\n",
    "\n",
    "print(auc(fpr,tpr), threshold)\n",
    "\n",
    "sns.set_style('darkgrid', {'axes.facecolor': '0.9'})\n",
    "\n",
    "print('AUC: {}'.format(auc(fpr, tpr)))\n",
    "plt.figure(figsize=(10, 8))\n",
    "lw = 2\n",
    "plt.plot(fpr, tpr, color='darkorange',\n",
    "         lw=lw, label='ROC curve')\n",
    "plt.plot([0, 1], [0, 1], color='navy', lw=lw, linestyle='--')\n",
    "plt.xlim([0.0, 1.0])\n",
    "plt.ylim([0.0, 1.05])\n",
    "plt.yticks([i/20.0 for i in range(21)])a\n",
    "plt.xticks([i/20.0 for i in range(21)])\n",
    "plt.xlabel('False Positive Rate')\n",
    "plt.ylabel('True Positive Rate')\n",
    "plt.title('Receiver operating characteristic (ROC) Curve')\n",
    "plt.legend(loc='lower right')\n",
    "plt.show();"
   ]
  },
  {
   "cell_type": "code",
   "execution_count": null,
   "metadata": {},
   "outputs": [],
   "source": [
    "bnb = BernoulliNB()\n",
    "bnb.fit(X_train, y_train)\n",
    "y_hat_train = bnb.predict(X_train)\n",
    "y_hat_test = bnb.predict(X_test)\n",
    "acc_bnb = round(bnb.score(X_train, y_train) * 100, 2)\n",
    "acc_bnb"
   ]
  },
  {
   "cell_type": "code",
   "execution_count": null,
   "metadata": {},
   "outputs": [],
   "source": [
    "print('Naive Bayes:\\n 1. train 2. test')\n",
    "print(classification_report(y_train, y_hat_train), \n",
    "      classification_report(y_test, y_hat_test), \n",
    "      sep='\\n-------------------------------------------------------\\n')"
   ]
  },
  {
   "cell_type": "code",
   "execution_count": null,
   "metadata": {},
   "outputs": [],
   "source": [
    "y_score = bnb.predict_proba(X_test)\n",
    "\n",
    "fpr, tpr, threshold = roc_curve(y_test, y_score[:,1])\n",
    "\n",
    "print(auc(fpr,tpr), threshold)\n",
    "\n",
    "sns.set_style('darkgrid', {'axes.facecolor': '0.9'})\n",
    "\n",
    "print('AUC: {}'.format(auc(fpr, tpr)))\n",
    "plt.figure(figsize=(10, 8))\n",
    "lw = 2\n",
    "plt.plot(fpr, tpr, color='darkorange',\n",
    "         lw=lw, label='ROC curve')\n",
    "plt.plot([0, 1], [0, 1], color='navy', lw=lw, linestyle='--')\n",
    "plt.xlim([0.0, 1.0])\n",
    "plt.ylim([0.0, 1.05])\n",
    "plt.yticks([i/20.0 for i in range(21)])\n",
    "plt.xticks([i/20.0 for i in range(21)])\n",
    "plt.xlabel('False Positive Rate')\n",
    "plt.ylabel('True Positive Rate')\n",
    "plt.title('Receiver operating characteristic (ROC) Curve')\n",
    "plt.legend(loc='lower right')\n",
    "plt.show();"
   ]
  },
  {
   "cell_type": "markdown",
   "metadata": {},
   "source": [
    "# Pennsylvania"
   ]
  },
  {
   "cell_type": "code",
   "execution_count": null,
   "metadata": {},
   "outputs": [],
   "source": [
    "pa_df = pickle.load(open('post_eda/eda_pa.p', 'rb'))\n",
    "word_list = list(pa_df['text'])\n",
    "\n",
    "vectorized = vectorizer.fit_transform(word_list)\n",
    "data_matrix = pd.DataFrame(vectorized.toarray(), columns=vectorizer.get_feature_names())\n",
    "X_train, X_test, y_train, y_test = train_test_split(data_matrix, pa_df.review_rating, test_size=0.33)\n",
    "\n",
    "rf = RandomForestClassifier(n_estimators=16, verbose=True)\n",
    "rf.fit(X_train, y_train)\n",
    "\n",
    "y_hat_train = rf.predict(X_train)\n",
    "y_hat_test = rf.predict(X_test)\n",
    "acc_random_forest = round(rf.score(X_test, y_test) * 100, 2)\n",
    "acc_random_forest"
   ]
  },
  {
   "cell_type": "code",
   "execution_count": null,
   "metadata": {},
   "outputs": [],
   "source": [
    "print('Random Forest:\\n 1. train 2. test')\n",
    "print(classification_report(y_train, y_hat_train), \n",
    "      classification_report(y_test, y_hat_test), \n",
    "      sep='\\n-------------------------------------------------------\\n')"
   ]
  },
  {
   "cell_type": "code",
   "execution_count": null,
   "metadata": {},
   "outputs": [],
   "source": [
    "y_score = rf.predict_proba(X_test)\n",
    "\n",
    "fpr, tpr, threshold = roc_curve(y_test, y_score[:,1])\n",
    "\n",
    "print(auc(fpr,tpr), threshold)\n",
    "\n",
    "sns.set_style('darkgrid', {'axes.facecolor': '0.9'})\n",
    "\n",
    "print('AUC: {}'.format(auc(fpr, tpr)))\n",
    "plt.figure(figsize=(10, 8))\n",
    "lw = 2\n",
    "plt.plot(fpr, tpr, color='darkorange',\n",
    "         lw=lw, label='ROC curve')\n",
    "plt.plot([0, 1], [0, 1], color='navy', lw=lw, linestyle='--')\n",
    "plt.xlim([0.0, 1.0])\n",
    "plt.ylim([0.0, 1.05])\n",
    "plt.yticks([i/20.0 for i in range(21)])a\n",
    "plt.xticks([i/20.0 for i in range(21)])\n",
    "plt.xlabel('False Positive Rate')\n",
    "plt.ylabel('True Positive Rate')\n",
    "plt.title('Receiver operating characteristic (ROC) Curve')\n",
    "plt.legend(loc='lower right')\n",
    "plt.show();"
   ]
  },
  {
   "cell_type": "code",
   "execution_count": null,
   "metadata": {},
   "outputs": [],
   "source": [
    "bnb = BernoulliNB()\n",
    "bnb.fit(X_train, y_train)\n",
    "y_hat_train = bnb.predict(X_train)\n",
    "y_hat_test = bnb.predict(X_test)\n",
    "acc_bnb = round(bnb.score(X_train, y_train) * 100, 2)\n",
    "acc_bnb"
   ]
  },
  {
   "cell_type": "code",
   "execution_count": null,
   "metadata": {},
   "outputs": [],
   "source": [
    "print('Naive Bayes:\\n 1. train 2. test')\n",
    "print(classification_report(y_train, y_hat_train), \n",
    "      classification_report(y_test, y_hat_test), \n",
    "      sep='\\n-------------------------------------------------------\\n')"
   ]
  },
  {
   "cell_type": "code",
   "execution_count": null,
   "metadata": {},
   "outputs": [],
   "source": [
    "y_score = bnb.predict_proba(X_test)\n",
    "\n",
    "fpr, tpr, threshold = roc_curve(y_test, y_score[:,1])\n",
    "\n",
    "print(auc(fpr,tpr), threshold)\n",
    "\n",
    "sns.set_style('darkgrid', {'axes.facecolor': '0.9'})\n",
    "\n",
    "print('AUC: {}'.format(auc(fpr, tpr)))\n",
    "plt.figure(figsize=(10, 8))\n",
    "lw = 2\n",
    "plt.plot(fpr, tpr, color='darkorange',\n",
    "         lw=lw, label='ROC curve')\n",
    "plt.plot([0, 1], [0, 1], color='navy', lw=lw, linestyle='--')\n",
    "plt.xlim([0.0, 1.0])\n",
    "plt.ylim([0.0, 1.05])\n",
    "plt.yticks([i/20.0 for i in range(21)])\n",
    "plt.xticks([i/20.0 for i in range(21)])\n",
    "plt.xlabel('False Positive Rate')\n",
    "plt.ylabel('True Positive Rate')\n",
    "plt.title('Receiver operating characteristic (ROC) Curve')\n",
    "plt.legend(loc='lower right')\n",
    "plt.show();"
   ]
  },
  {
   "cell_type": "markdown",
   "metadata": {},
   "source": [
    "# Quebec"
   ]
  },
  {
   "cell_type": "code",
   "execution_count": null,
   "metadata": {},
   "outputs": [],
   "source": [
    "qc_df = pickle.load(open('post_eda/eda_qc.p', 'rb'))\n",
    "word_list = list(qc_df['text'])\n",
    "\n",
    "vectorized = vectorizer.fit_transform(word_list)\n",
    "data_matrix = pd.DataFrame(vectorized.toarray(), columns=vectorizer.get_feature_names())\n",
    "X_train, X_test, y_train, y_test = train_test_split(data_matrix, qc_df.review_rating, test_size=0.33)\n",
    "\n",
    "rf = RandomForestClassifier(n_estimators=16, verbose=True)\n",
    "rf.fit(X_train, y_train)\n",
    "\n",
    "y_hat_train = rf.predict(X_train)\n",
    "y_hat_test = rf.predict(X_test)\n",
    "acc_random_forest = round(rf.score(X_test, y_test) * 100, 2)\n",
    "acc_random_forest"
   ]
  },
  {
   "cell_type": "code",
   "execution_count": null,
   "metadata": {},
   "outputs": [],
   "source": [
    "print('Random Forest:\\n 1. train 2. test')\n",
    "print(classification_report(y_train, y_hat_train), \n",
    "      classification_report(y_test, y_hat_test), \n",
    "      sep='\\n-------------------------------------------------------\\n')"
   ]
  },
  {
   "cell_type": "code",
   "execution_count": null,
   "metadata": {},
   "outputs": [],
   "source": [
    "y_score = rf.predict_proba(X_test)\n",
    "\n",
    "fpr, tpr, threshold = roc_curve(y_test, y_score[:,1])\n",
    "\n",
    "print(auc(fpr,tpr), threshold)\n",
    "\n",
    "sns.set_style('darkgrid', {'axes.facecolor': '0.9'})\n",
    "\n",
    "print('AUC: {}'.format(auc(fpr, tpr)))\n",
    "plt.figure(figsize=(10, 8))\n",
    "lw = 2\n",
    "plt.plot(fpr, tpr, color='darkorange',\n",
    "         lw=lw, label='ROC curve')\n",
    "plt.plot([0, 1], [0, 1], color='navy', lw=lw, linestyle='--')\n",
    "plt.xlim([0.0, 1.0])\n",
    "plt.ylim([0.0, 1.05])\n",
    "plt.yticks([i/20.0 for i in range(21)])a\n",
    "plt.xticks([i/20.0 for i in range(21)])\n",
    "plt.xlabel('False Positive Rate')\n",
    "plt.ylabel('True Positive Rate')\n",
    "plt.title('Receiver operating characteristic (ROC) Curve')\n",
    "plt.legend(loc='lower right')\n",
    "plt.show();"
   ]
  },
  {
   "cell_type": "code",
   "execution_count": null,
   "metadata": {},
   "outputs": [],
   "source": [
    "bnb = BernoulliNB()\n",
    "bnb.fit(X_train, y_train)\n",
    "y_hat_train = bnb.predict(X_train)\n",
    "y_hat_test = bnb.predict(X_test)\n",
    "acc_bnb = round(bnb.score(X_train, y_train) * 100, 2)\n",
    "acc_bnb"
   ]
  },
  {
   "cell_type": "code",
   "execution_count": null,
   "metadata": {},
   "outputs": [],
   "source": [
    "print('Naive Bayes:\\n 1. train 2. test')\n",
    "print(classification_report(y_train, y_hat_train), \n",
    "      classification_report(y_test, y_hat_test), \n",
    "      sep='\\n-------------------------------------------------------\\n')"
   ]
  },
  {
   "cell_type": "code",
   "execution_count": null,
   "metadata": {},
   "outputs": [],
   "source": [
    "y_score = bnb.predict_proba(X_test)\n",
    "\n",
    "fpr, tpr, threshold = roc_curve(y_test, y_score[:,1])\n",
    "\n",
    "print(auc(fpr,tpr), threshold)\n",
    "\n",
    "sns.set_style('darkgrid', {'axes.facecolor': '0.9'})\n",
    "\n",
    "print('AUC: {}'.format(auc(fpr, tpr)))\n",
    "plt.figure(figsize=(10, 8))\n",
    "lw = 2\n",
    "plt.plot(fpr, tpr, color='darkorange',\n",
    "         lw=lw, label='ROC curve')\n",
    "plt.plot([0, 1], [0, 1], color='navy', lw=lw, linestyle='--')\n",
    "plt.xlim([0.0, 1.0])\n",
    "plt.ylim([0.0, 1.05])\n",
    "plt.yticks([i/20.0 for i in range(21)])\n",
    "plt.xticks([i/20.0 for i in range(21)])\n",
    "plt.xlabel('False Positive Rate')\n",
    "plt.ylabel('True Positive Rate')\n",
    "plt.title('Receiver operating characteristic (ROC) Curve')\n",
    "plt.legend(loc='lower right')\n",
    "plt.show();"
   ]
  },
  {
   "cell_type": "markdown",
   "metadata": {},
   "source": [
    "# Wisconsin"
   ]
  },
  {
   "cell_type": "code",
   "execution_count": null,
   "metadata": {},
   "outputs": [],
   "source": [
    "wi_df = pickle.load(open('post_eda/eda_wi.p', 'rb'))\n",
    "word_list = list(wi_df['text'])\n",
    "\n",
    "vectorized = vectorizer.fit_transform(word_list)\n",
    "data_matrix = pd.DataFrame(vectorized.toarray(), columns=vectorizer.get_feature_names())\n",
    "X_train, X_test, y_train, y_test = train_test_split(data_matrix, wi_df.review_rating, test_size=0.33)\n",
    "\n",
    "rf = RandomForestClassifier(n_estimators=16, verbose=True)\n",
    "rf.fit(X_train, y_train)\n",
    "\n",
    "y_hat_train = rf.predict(X_train)\n",
    "y_hat_test = rf.predict(X_test)\n",
    "acc_random_forest = round(rf.score(X_test, y_test) * 100, 2)\n",
    "acc_random_forest"
   ]
  },
  {
   "cell_type": "code",
   "execution_count": null,
   "metadata": {},
   "outputs": [],
   "source": [
    "print('Random Forest:\\n 1. train 2. test')\n",
    "print(classification_report(y_train, y_hat_train), \n",
    "      classification_report(y_test, y_hat_test), \n",
    "      sep='\\n-------------------------------------------------------\\n')"
   ]
  },
  {
   "cell_type": "code",
   "execution_count": null,
   "metadata": {},
   "outputs": [],
   "source": [
    "y_score = rf.predict_proba(X_test)\n",
    "\n",
    "fpr, tpr, threshold = roc_curve(y_test, y_score[:,1])\n",
    "\n",
    "print(auc(fpr,tpr), threshold)\n",
    "\n",
    "sns.set_style('darkgrid', {'axes.facecolor': '0.9'})\n",
    "\n",
    "print('AUC: {}'.format(auc(fpr, tpr)))\n",
    "plt.figure(figsize=(10, 8))\n",
    "lw = 2\n",
    "plt.plot(fpr, tpr, color='darkorange',\n",
    "         lw=lw, label='ROC curve')\n",
    "plt.plot([0, 1], [0, 1], color='navy', lw=lw, linestyle='--')\n",
    "plt.xlim([0.0, 1.0])\n",
    "plt.ylim([0.0, 1.05])\n",
    "plt.yticks([i/20.0 for i in range(21)])a\n",
    "plt.xticks([i/20.0 for i in range(21)])\n",
    "plt.xlabel('False Positive Rate')\n",
    "plt.ylabel('True Positive Rate')\n",
    "plt.title('Receiver operating characteristic (ROC) Curve')\n",
    "plt.legend(loc='lower right')\n",
    "plt.show();"
   ]
  },
  {
   "cell_type": "code",
   "execution_count": null,
   "metadata": {},
   "outputs": [],
   "source": [
    "bnb = BernoulliNB()\n",
    "bnb.fit(X_train, y_train)\n",
    "y_hat_train = bnb.predict(X_train)\n",
    "y_hat_test = bnb.predict(X_test)\n",
    "acc_bnb = round(bnb.score(X_train, y_train) * 100, 2)\n",
    "acc_bnb"
   ]
  },
  {
   "cell_type": "code",
   "execution_count": null,
   "metadata": {},
   "outputs": [],
   "source": [
    "print('Naive Bayes:\\n 1. train 2. test')\n",
    "print(classification_report(y_train, y_hat_train), \n",
    "      classification_report(y_test, y_hat_test), \n",
    "      sep='\\n-------------------------------------------------------\\n')"
   ]
  },
  {
   "cell_type": "code",
   "execution_count": null,
   "metadata": {},
   "outputs": [],
   "source": [
    "y_score = bnb.predict_proba(X_test)\n",
    "\n",
    "fpr, tpr, threshold = roc_curve(y_test, y_score[:,1])\n",
    "\n",
    "print(auc(fpr,tpr), threshold)\n",
    "\n",
    "sns.set_style('darkgrid', {'axes.facecolor': '0.9'})\n",
    "\n",
    "print('AUC: {}'.format(auc(fpr, tpr)))\n",
    "plt.figure(figsize=(10, 8))\n",
    "lw = 2\n",
    "plt.plot(fpr, tpr, color='darkorange',\n",
    "         lw=lw, label='ROC curve')\n",
    "plt.plot([0, 1], [0, 1], color='navy', lw=lw, linestyle='--')\n",
    "plt.xlim([0.0, 1.0])\n",
    "plt.ylim([0.0, 1.05])\n",
    "plt.yticks([i/20.0 for i in range(21)])\n",
    "plt.xticks([i/20.0 for i in range(21)])\n",
    "plt.xlabel('False Positive Rate')\n",
    "plt.ylabel('True Positive Rate')\n",
    "plt.title('Receiver operating characteristic (ROC) Curve')\n",
    "plt.legend(loc='lower right')\n",
    "plt.show();"
   ]
  },
  {
   "cell_type": "code",
   "execution_count": null,
   "metadata": {},
   "outputs": [],
   "source": []
  }
 ],
 "metadata": {
  "kernelspec": {
   "display_name": "Python 3",
   "language": "python",
   "name": "python3"
  },
  "language_info": {
   "codemirror_mode": {
    "name": "ipython",
    "version": 3
   },
   "file_extension": ".py",
   "mimetype": "text/x-python",
   "name": "python",
   "nbconvert_exporter": "python",
   "pygments_lexer": "ipython3",
   "version": "3.5.3"
  }
 },
 "nbformat": 4,
 "nbformat_minor": 4
}
