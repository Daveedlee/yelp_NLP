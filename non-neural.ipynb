{
 "cells": [
  {
   "cell_type": "code",
   "execution_count": 1,
   "metadata": {},
   "outputs": [
    {
     "name": "stderr",
     "output_type": "stream",
     "text": [
      "/usr/local/lib/python3.5/site-packages/sklearn/ensemble/weight_boosting.py:29: DeprecationWarning: numpy.core.umath_tests is an internal NumPy module and should not be imported. It will be removed in a future NumPy release.\n",
      "  from numpy.core.umath_tests import inner1d\n"
     ]
    }
   ],
   "source": [
    "import numpy as np\n",
    "import pickle\n",
    "import pandas as pd\n",
    "\n",
    "from sklearn.feature_extraction.text import CountVectorizer\n",
    "from sklearn.ensemble import RandomForestClassifier\n",
    "from sklearn.linear_model import LogisticRegression\n",
    "from sklearn.pipeline import Pipeline\n",
    "from sklearn.model_selection import cross_val_score\n",
    "from sklearn.naive_bayes import BernoulliNB\n",
    "from gensim.parsing.preprocessing import remove_stopwords\n",
    "from sklearn.model_selection import train_test_split\n",
    "from gensim.sklearn_api import W2VTransformer"
   ]
  },
  {
   "cell_type": "code",
   "execution_count": 2,
   "metadata": {},
   "outputs": [],
   "source": [
    "nv_df = pickle.load(open('data_clean/cleaned_nv.p', 'rb'))"
   ]
  },
  {
   "cell_type": "code",
   "execution_count": 3,
   "metadata": {},
   "outputs": [],
   "source": [
    "nv_df.reset_index(inplace=True)\n",
    "nv_df.drop(['state', 'user_id'], axis=1, inplace=True)"
   ]
  },
  {
   "cell_type": "code",
   "execution_count": 4,
   "metadata": {},
   "outputs": [
    {
     "data": {
      "text/html": [
       "<div>\n",
       "<style scoped>\n",
       "    .dataframe tbody tr th:only-of-type {\n",
       "        vertical-align: middle;\n",
       "    }\n",
       "\n",
       "    .dataframe tbody tr th {\n",
       "        vertical-align: top;\n",
       "    }\n",
       "\n",
       "    .dataframe thead th {\n",
       "        text-align: right;\n",
       "    }\n",
       "</style>\n",
       "<table border=\"1\" class=\"dataframe\">\n",
       "  <thead>\n",
       "    <tr style=\"text-align: right;\">\n",
       "      <th></th>\n",
       "      <th>text</th>\n",
       "      <th>stars_x</th>\n",
       "    </tr>\n",
       "  </thead>\n",
       "  <tbody>\n",
       "    <tr>\n",
       "      <th>0</th>\n",
       "      <td>ive been rooting for this place since it opene...</td>\n",
       "      <td>2.0</td>\n",
       "    </tr>\n",
       "    <tr>\n",
       "      <th>1</th>\n",
       "      <td>my partner  i arrived first time customers the...</td>\n",
       "      <td>5.0</td>\n",
       "    </tr>\n",
       "    <tr>\n",
       "      <th>2</th>\n",
       "      <td>stayed here during new years stayed on the  fl...</td>\n",
       "      <td>2.0</td>\n",
       "    </tr>\n",
       "    <tr>\n",
       "      <th>3</th>\n",
       "      <td>visited the pharmacy a few times in the last c...</td>\n",
       "      <td>5.0</td>\n",
       "    </tr>\n",
       "    <tr>\n",
       "      <th>4</th>\n",
       "      <td>first of all this is one massive strip club th...</td>\n",
       "      <td>5.0</td>\n",
       "    </tr>\n",
       "    <tr>\n",
       "      <th>...</th>\n",
       "      <td>...</td>\n",
       "      <td>...</td>\n",
       "    </tr>\n",
       "    <tr>\n",
       "      <th>999995</th>\n",
       "      <td>very great hotel overall the staff knows how t...</td>\n",
       "      <td>4.0</td>\n",
       "    </tr>\n",
       "    <tr>\n",
       "      <th>999996</th>\n",
       "      <td>with yelps  off for iphone  screen repair i w...</td>\n",
       "      <td>5.0</td>\n",
       "    </tr>\n",
       "    <tr>\n",
       "      <th>999997</th>\n",
       "      <td>i toured over  different location and this was...</td>\n",
       "      <td>5.0</td>\n",
       "    </tr>\n",
       "    <tr>\n",
       "      <th>999998</th>\n",
       "      <td>this place can get packed drinks are great and...</td>\n",
       "      <td>4.0</td>\n",
       "    </tr>\n",
       "    <tr>\n",
       "      <th>999999</th>\n",
       "      <td>everyone is friendly at this office which is a...</td>\n",
       "      <td>5.0</td>\n",
       "    </tr>\n",
       "  </tbody>\n",
       "</table>\n",
       "<p>1000000 rows × 2 columns</p>\n",
       "</div>"
      ],
      "text/plain": [
       "                                                     text  stars_x\n",
       "0       ive been rooting for this place since it opene...      2.0\n",
       "1       my partner  i arrived first time customers the...      5.0\n",
       "2       stayed here during new years stayed on the  fl...      2.0\n",
       "3       visited the pharmacy a few times in the last c...      5.0\n",
       "4       first of all this is one massive strip club th...      5.0\n",
       "...                                                   ...      ...\n",
       "999995  very great hotel overall the staff knows how t...      4.0\n",
       "999996   with yelps  off for iphone  screen repair i w...      5.0\n",
       "999997  i toured over  different location and this was...      5.0\n",
       "999998  this place can get packed drinks are great and...      4.0\n",
       "999999  everyone is friendly at this office which is a...      5.0\n",
       "\n",
       "[1000000 rows x 2 columns]"
      ]
     },
     "execution_count": 4,
     "metadata": {},
     "output_type": "execute_result"
    }
   ],
   "source": [
    "nv_df"
   ]
  },
  {
   "cell_type": "code",
   "execution_count": 22,
   "metadata": {},
   "outputs": [],
   "source": [
    "total_vocabulary = set(word for text in nv_df.text for word in text)"
   ]
  },
  {
   "cell_type": "code",
   "execution_count": 51,
   "metadata": {},
   "outputs": [],
   "source": [
    "glove = {}\n",
    "with open('datasets/glove.6B.100d.txt', 'rb') as f:\n",
    "    for line in f:\n",
    "        parts = line.split()\n",
    "        word = parts[0].decode('utf-8')\n",
    "        if word in total_vocabulary:\n",
    "            vector = np.array(parts[1:], dtype=np.float32)\n",
    "            glove[word] = vector"
   ]
  },
  {
   "cell_type": "code",
   "execution_count": 52,
   "metadata": {},
   "outputs": [],
   "source": [
    "class W2vVectorizer(object):\n",
    "    \n",
    "    def __init__(self, w2v):\n",
    "        # Takes in a dictionary of words and vectors as input\n",
    "        self.w2v = w2v\n",
    "        if len(w2v) == 0:\n",
    "            self.dimensions = 0\n",
    "        else:\n",
    "            self.dimensions = len(w2v[next(iter(glove))])\n",
    "    \n",
    "    # Note: Even though it doesn't do anything, it's required that this object implement a fit method or else\n",
    "    # it can't be used in a scikit-learn pipeline  \n",
    "    def fit(self, X, y):\n",
    "        return self\n",
    "            \n",
    "    def transform(self, X):\n",
    "        return np.array([\n",
    "            np.mean([self.w2v[w] for w in words if w in self.w2v]\n",
    "                   or [np.zeros(self.dimensions)], axis=0) for words in X])"
   ]
  },
  {
   "cell_type": "code",
   "execution_count": 54,
   "metadata": {},
   "outputs": [
    {
     "name": "stderr",
     "output_type": "stream",
     "text": [
      "[Parallel(n_jobs=1)]: Done 100 out of 100 | elapsed:  9.1min finished\n",
      "[Parallel(n_jobs=1)]: Done 100 out of 100 | elapsed:   14.1s finished\n",
      "[Parallel(n_jobs=1)]: Done 100 out of 100 | elapsed:  9.1min finished\n",
      "[Parallel(n_jobs=1)]: Done 100 out of 100 | elapsed:   14.2s finished\n"
     ]
    },
    {
     "data": {
      "text/plain": [
       "[('Random Forest', 0.489052238101637),\n",
       " ('Logistic Regression', 0.47854477876510737),\n",
       " ('NB Bernoulli', 0.4664149254254013)]"
      ]
     },
     "execution_count": 54,
     "metadata": {},
     "output_type": "execute_result"
    }
   ],
   "source": [
    "rf =  Pipeline([('Word2Vec Vectorizer', W2vVectorizer(glove)),\n",
    "              ('Random Forest', RandomForestClassifier(n_estimators=100, verbose=True))])\n",
    "lr = Pipeline([('Word2Vec Vectorizer', W2vVectorizer(glove)),\n",
    "                ('Logistic Regression', LogisticRegression())])\n",
    "nb = Pipeline([('W2V Vec', W2vVectorizer(glove)), ('NB Bernoulli', BernoulliNB())])\n",
    "\n",
    "models = [('Random Forest', rf),\n",
    "         ('Logistic Regression', lr),\n",
    "         ('NB Bernoulli', nb)]\n",
    "\n",
    "scores = [(name, cross_val_score(model, X_train, y_train, cv=2).mean()) for name, model, in models]\n",
    "scores"
   ]
  },
  {
   "cell_type": "code",
   "execution_count": 65,
   "metadata": {},
   "outputs": [],
   "source": [
    "nv_df['text1'] = nv_df.text.astype('str')"
   ]
  },
  {
   "cell_type": "code",
   "execution_count": 66,
   "metadata": {},
   "outputs": [
    {
     "data": {
      "text/html": [
       "<div>\n",
       "<style scoped>\n",
       "    .dataframe tbody tr th:only-of-type {\n",
       "        vertical-align: middle;\n",
       "    }\n",
       "\n",
       "    .dataframe tbody tr th {\n",
       "        vertical-align: top;\n",
       "    }\n",
       "\n",
       "    .dataframe thead th {\n",
       "        text-align: right;\n",
       "    }\n",
       "</style>\n",
       "<table border=\"1\" class=\"dataframe\">\n",
       "  <thead>\n",
       "    <tr style=\"text-align: right;\">\n",
       "      <th></th>\n",
       "      <th>text</th>\n",
       "      <th>stars_x</th>\n",
       "      <th>text1</th>\n",
       "    </tr>\n",
       "  </thead>\n",
       "  <tbody>\n",
       "    <tr>\n",
       "      <th>0</th>\n",
       "      <td>ive been rooting for this place since it opene...</td>\n",
       "      <td>2.0</td>\n",
       "      <td>ive been rooting for this place since it opene...</td>\n",
       "    </tr>\n",
       "    <tr>\n",
       "      <th>1</th>\n",
       "      <td>my partner  i arrived first time customers the...</td>\n",
       "      <td>5.0</td>\n",
       "      <td>my partner  i arrived first time customers the...</td>\n",
       "    </tr>\n",
       "    <tr>\n",
       "      <th>2</th>\n",
       "      <td>stayed here during new years stayed on the  fl...</td>\n",
       "      <td>2.0</td>\n",
       "      <td>stayed here during new years stayed on the  fl...</td>\n",
       "    </tr>\n",
       "    <tr>\n",
       "      <th>3</th>\n",
       "      <td>visited the pharmacy a few times in the last c...</td>\n",
       "      <td>5.0</td>\n",
       "      <td>visited the pharmacy a few times in the last c...</td>\n",
       "    </tr>\n",
       "    <tr>\n",
       "      <th>4</th>\n",
       "      <td>first of all this is one massive strip club th...</td>\n",
       "      <td>5.0</td>\n",
       "      <td>first of all this is one massive strip club th...</td>\n",
       "    </tr>\n",
       "    <tr>\n",
       "      <th>...</th>\n",
       "      <td>...</td>\n",
       "      <td>...</td>\n",
       "      <td>...</td>\n",
       "    </tr>\n",
       "    <tr>\n",
       "      <th>999995</th>\n",
       "      <td>very great hotel overall the staff knows how t...</td>\n",
       "      <td>4.0</td>\n",
       "      <td>very great hotel overall the staff knows how t...</td>\n",
       "    </tr>\n",
       "    <tr>\n",
       "      <th>999996</th>\n",
       "      <td>with yelps  off for iphone  screen repair i w...</td>\n",
       "      <td>5.0</td>\n",
       "      <td>with yelps  off for iphone  screen repair i w...</td>\n",
       "    </tr>\n",
       "    <tr>\n",
       "      <th>999997</th>\n",
       "      <td>i toured over  different location and this was...</td>\n",
       "      <td>5.0</td>\n",
       "      <td>i toured over  different location and this was...</td>\n",
       "    </tr>\n",
       "    <tr>\n",
       "      <th>999998</th>\n",
       "      <td>this place can get packed drinks are great and...</td>\n",
       "      <td>4.0</td>\n",
       "      <td>this place can get packed drinks are great and...</td>\n",
       "    </tr>\n",
       "    <tr>\n",
       "      <th>999999</th>\n",
       "      <td>everyone is friendly at this office which is a...</td>\n",
       "      <td>5.0</td>\n",
       "      <td>everyone is friendly at this office which is a...</td>\n",
       "    </tr>\n",
       "  </tbody>\n",
       "</table>\n",
       "<p>1000000 rows × 3 columns</p>\n",
       "</div>"
      ],
      "text/plain": [
       "                                                     text  stars_x  \\\n",
       "0       ive been rooting for this place since it opene...      2.0   \n",
       "1       my partner  i arrived first time customers the...      5.0   \n",
       "2       stayed here during new years stayed on the  fl...      2.0   \n",
       "3       visited the pharmacy a few times in the last c...      5.0   \n",
       "4       first of all this is one massive strip club th...      5.0   \n",
       "...                                                   ...      ...   \n",
       "999995  very great hotel overall the staff knows how t...      4.0   \n",
       "999996   with yelps  off for iphone  screen repair i w...      5.0   \n",
       "999997  i toured over  different location and this was...      5.0   \n",
       "999998  this place can get packed drinks are great and...      4.0   \n",
       "999999  everyone is friendly at this office which is a...      5.0   \n",
       "\n",
       "                                                    text1  \n",
       "0       ive been rooting for this place since it opene...  \n",
       "1       my partner  i arrived first time customers the...  \n",
       "2       stayed here during new years stayed on the  fl...  \n",
       "3       visited the pharmacy a few times in the last c...  \n",
       "4       first of all this is one massive strip club th...  \n",
       "...                                                   ...  \n",
       "999995  very great hotel overall the staff knows how t...  \n",
       "999996   with yelps  off for iphone  screen repair i w...  \n",
       "999997  i toured over  different location and this was...  \n",
       "999998  this place can get packed drinks are great and...  \n",
       "999999  everyone is friendly at this office which is a...  \n",
       "\n",
       "[1000000 rows x 3 columns]"
      ]
     },
     "execution_count": 66,
     "metadata": {},
     "output_type": "execute_result"
    }
   ],
   "source": [
    "nv_df"
   ]
  },
  {
   "cell_type": "code",
   "execution_count": 15,
   "metadata": {},
   "outputs": [],
   "source": [
    "vectorizer = CountVectorizer()"
   ]
  },
  {
   "cell_type": "code",
   "execution_count": 43,
   "metadata": {},
   "outputs": [],
   "source": [
    "word_list = list(nv_df['text'])[0:100000]"
   ]
  },
  {
   "cell_type": "code",
   "execution_count": 45,
   "metadata": {},
   "outputs": [],
   "source": [
    "vectorized = vectorizer.fit_transform(word_list)\n",
    "data_matrix = pd.DataFrame(vectorized.toarray(), columns=vectorizer.get_feature_names())\n",
    "X_train, X_test, y_train, y_test = train_test_split(data_matrix, nv_df.stars_x[0:100000], test_size=0.33)"
   ]
  },
  {
   "cell_type": "code",
   "execution_count": 46,
   "metadata": {},
   "outputs": [
    {
     "name": "stderr",
     "output_type": "stream",
     "text": [
      "[Parallel(n_jobs=1)]: Done  32 out of  32 | elapsed: 23.8min finished\n"
     ]
    },
    {
     "data": {
      "text/plain": [
       "RandomForestClassifier(bootstrap=True, class_weight=None, criterion='gini',\n",
       "            max_depth=None, max_features='auto', max_leaf_nodes=None,\n",
       "            min_impurity_decrease=0.0, min_impurity_split=None,\n",
       "            min_samples_leaf=1, min_samples_split=2,\n",
       "            min_weight_fraction_leaf=0.0, n_estimators=32, n_jobs=1,\n",
       "            oob_score=False, random_state=None, verbose=True,\n",
       "            warm_start=False)"
      ]
     },
     "execution_count": 46,
     "metadata": {},
     "output_type": "execute_result"
    }
   ],
   "source": [
    "rf = RandomForestClassifier(n_estimators=32, verbose=True)\n",
    "rf.fit(X_train, y_train)"
   ]
  },
  {
   "cell_type": "code",
   "execution_count": 47,
   "metadata": {},
   "outputs": [
    {
     "name": "stderr",
     "output_type": "stream",
     "text": [
      "[Parallel(n_jobs=1)]: Done  32 out of  32 | elapsed:    4.7s finished\n",
      "[Parallel(n_jobs=1)]: Done  32 out of  32 | elapsed:    2.5s finished\n",
      "[Parallel(n_jobs=1)]: Done  32 out of  32 | elapsed:    2.5s finished\n"
     ]
    },
    {
     "data": {
      "text/plain": [
       "55.92"
      ]
     },
     "execution_count": 47,
     "metadata": {},
     "output_type": "execute_result"
    }
   ],
   "source": [
    "y_hat_train = rf.predict(X_train)\n",
    "y_hat_test = rf.predict(X_test)\n",
    "acc_random_forest = round(rf.score(X_test, y_test) * 100, 2)\n",
    "acc_random_forest"
   ]
  },
  {
   "cell_type": "code",
   "execution_count": 48,
   "metadata": {},
   "outputs": [],
   "source": [
    "from sklearn.metrics import classification_report, confusion_matrix, roc_curve, auc"
   ]
  },
  {
   "cell_type": "code",
   "execution_count": 49,
   "metadata": {},
   "outputs": [
    {
     "name": "stdout",
     "output_type": "stream",
     "text": [
      "Decision Tree:\n",
      " 1. train 2. test\n",
      "             precision    recall  f1-score   support\n",
      "\n",
      "        1.0       1.00      1.00      1.00     10029\n",
      "        2.0       1.00      1.00      1.00      5046\n",
      "        3.0       1.00      1.00      1.00      6988\n",
      "        4.0       1.00      1.00      1.00     13582\n",
      "        5.0       1.00      1.00      1.00     31355\n",
      "\n",
      "avg / total       1.00      1.00      1.00     67000\n",
      "\n",
      "-------------------------------------------------------\n",
      "             precision    recall  f1-score   support\n",
      "\n",
      "        1.0       0.65      0.55      0.60      5063\n",
      "        2.0       0.29      0.02      0.03      2562\n",
      "        3.0       0.36      0.05      0.09      3423\n",
      "        4.0       0.35      0.16      0.22      6682\n",
      "        5.0       0.57      0.94      0.71     15270\n",
      "\n",
      "avg / total       0.50      0.56      0.48     33000\n",
      "\n"
     ]
    }
   ],
   "source": [
    "print('Decision Tree:\\n 1. train 2. test')\n",
    "print(classification_report(y_train, y_hat_train), \n",
    "      classification_report(y_test, y_hat_test), \n",
    "      sep='\\n-------------------------------------------------------\\n')"
   ]
  },
  {
   "cell_type": "code",
   "execution_count": 50,
   "metadata": {},
   "outputs": [
    {
     "data": {
      "text/plain": [
       "59.06"
      ]
     },
     "execution_count": 50,
     "metadata": {},
     "output_type": "execute_result"
    }
   ],
   "source": [
    "from sklearn.naive_bayes import BernoulliNB\n",
    "\n",
    "bnb = BernoulliNB()\n",
    "bnb.fit(X_train, y_train)\n",
    "y_hat_train = bnb.predict(X_train)\n",
    "y_hat_test = bnb.predict(X_test)\n",
    "acc_bnb = round(bnb.score(X_train, y_train) * 100, 2)\n",
    "acc_bnb"
   ]
  },
  {
   "cell_type": "code",
   "execution_count": 51,
   "metadata": {},
   "outputs": [
    {
     "name": "stdout",
     "output_type": "stream",
     "text": [
      "Decision Tree:\n",
      " 1. train 2. test\n",
      "             precision    recall  f1-score   support\n",
      "\n",
      "        1.0       0.62      0.55      0.58     10029\n",
      "        2.0       0.60      0.15      0.24      5046\n",
      "        3.0       0.57      0.24      0.33      6988\n",
      "        4.0       0.48      0.40      0.44     13582\n",
      "        5.0       0.61      0.84      0.71     31355\n",
      "\n",
      "avg / total       0.58      0.59      0.56     67000\n",
      "\n",
      "-------------------------------------------------------\n",
      "             precision    recall  f1-score   support\n",
      "\n",
      "        1.0       0.58      0.52      0.55      5063\n",
      "        2.0       0.25      0.05      0.09      2562\n",
      "        3.0       0.30      0.14      0.19      3423\n",
      "        4.0       0.38      0.31      0.34      6682\n",
      "        5.0       0.60      0.81      0.69     15270\n",
      "\n",
      "avg / total       0.49      0.54      0.50     33000\n",
      "\n"
     ]
    }
   ],
   "source": [
    "print('Decision Tree:\\n 1. train 2. test')\n",
    "print(classification_report(y_train, y_hat_train), \n",
    "      classification_report(y_test, y_hat_test), \n",
    "      sep='\\n-------------------------------------------------------\\n')"
   ]
  }
 ],
 "metadata": {
  "kernelspec": {
   "display_name": "Python 3",
   "language": "python",
   "name": "python3"
  },
  "language_info": {
   "codemirror_mode": {
    "name": "ipython",
    "version": 3
   },
   "file_extension": ".py",
   "mimetype": "text/x-python",
   "name": "python",
   "nbconvert_exporter": "python",
   "pygments_lexer": "ipython3",
   "version": "3.5.3"
  }
 },
 "nbformat": 4,
 "nbformat_minor": 4
}
